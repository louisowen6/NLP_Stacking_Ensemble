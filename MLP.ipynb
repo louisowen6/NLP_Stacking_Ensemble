{
  "nbformat": 4,
  "nbformat_minor": 0,
  "metadata": {
    "colab": {
      "name": "MLP.ipynb",
      "provenance": [],
      "collapsed_sections": [
        "nYRbK7zrjL9x",
        "9aTn6cOnjVWX",
        "xppIq5pmY78o",
        "VdxOVeTajgKn",
        "6YzLJuFOi60S",
        "Xv2Epn0HkaOq",
        "2PfDhOB6euGe",
        "B-ebErL5ersz",
        "zdRus5XaYYIF",
        "AZW8fEoKkl3D",
        "L5g3LDbd0guw",
        "TspBo4xD1flM",
        "-8_0fsmW5p0-",
        "M712OCyD5W83",
        "50Ea_jOFEkTQ",
        "POVmdDLGAjk1",
        "kxyQ8ezHA7mM"
      ],
      "machine_shape": "hm",
      "include_colab_link": true
    },
    "kernelspec": {
      "name": "python3",
      "display_name": "Python 3"
    },
    "accelerator": "GPU"
  },
  "cells": [
    {
      "cell_type": "markdown",
      "metadata": {
        "id": "view-in-github",
        "colab_type": "text"
      },
      "source": [
        "<a href=\"https://colab.research.google.com/github/louisowen6/NLP_Stacking_Ensemble/blob/master/MLP.ipynb\" target=\"_parent\"><img src=\"https://colab.research.google.com/assets/colab-badge.svg\" alt=\"Open In Colab\"/></a>"
      ]
    },
    {
      "cell_type": "markdown",
      "metadata": {
        "id": "nYRbK7zrjL9x",
        "colab_type": "text"
      },
      "source": [
        "# Mount the Google Drive"
      ]
    },
    {
      "cell_type": "code",
      "metadata": {
        "id": "aiuvUl7Fi54g",
        "colab_type": "code",
        "outputId": "b7a33f91-48bf-4ebd-84ea-18e3567ab2f4",
        "colab": {
          "base_uri": "https://localhost:8080/",
          "height": 121
        }
      },
      "source": [
        "from google.colab import drive\n",
        "drive.mount('/content/gdrive')"
      ],
      "execution_count": 0,
      "outputs": [
        {
          "output_type": "stream",
          "text": [
            "Go to this URL in a browser: https://accounts.google.com/o/oauth2/auth?client_id=947318989803-6bn6qk8qdgf4n4g3pfee6491hc0brc4i.apps.googleusercontent.com&redirect_uri=urn%3Aietf%3Awg%3Aoauth%3A2.0%3Aoob&scope=email%20https%3A%2F%2Fwww.googleapis.com%2Fauth%2Fdocs.test%20https%3A%2F%2Fwww.googleapis.com%2Fauth%2Fdrive%20https%3A%2F%2Fwww.googleapis.com%2Fauth%2Fdrive.photos.readonly%20https%3A%2F%2Fwww.googleapis.com%2Fauth%2Fpeopleapi.readonly&response_type=code\n",
            "\n",
            "Enter your authorization code:\n",
            "··········\n",
            "Mounted at /content/gdrive\n"
          ],
          "name": "stdout"
        }
      ]
    },
    {
      "cell_type": "code",
      "metadata": {
        "id": "dyS2Db_ujTTZ",
        "colab_type": "code",
        "colab": {}
      },
      "source": [
        "# Code to read csv file into Colaboratory:\n",
        "!pip install -U -q PyDrive\n",
        "from pydrive.auth import GoogleAuth\n",
        "from pydrive.drive import GoogleDrive\n",
        "from google.colab import auth\n",
        "from oauth2client.client import GoogleCredentials\n",
        "# Authenticate and create the PyDrive client.\n",
        "auth.authenticate_user()\n",
        "gauth = GoogleAuth()\n",
        "gauth.credentials = GoogleCredentials.get_application_default()\n",
        "drive = GoogleDrive(gauth)"
      ],
      "execution_count": 0,
      "outputs": []
    },
    {
      "cell_type": "markdown",
      "metadata": {
        "id": "9aTn6cOnjVWX",
        "colab_type": "text"
      },
      "source": [
        "# Import Packages"
      ]
    },
    {
      "cell_type": "code",
      "metadata": {
        "id": "5vPUjQWOjXfE",
        "colab_type": "code",
        "outputId": "a8a71bf9-06b4-4cd9-d76e-1e47db77d546",
        "colab": {
          "base_uri": "https://localhost:8080/"
        }
      },
      "source": [
        "import warnings\n",
        "warnings.filterwarnings(\"ignore\")\n",
        "\n",
        "import pandas as pd\n",
        "import numpy as np\n",
        "import gensim \n",
        "import nltk\n",
        "from time import time\n",
        "from sklearn.model_selection import train_test_split,StratifiedKFold\n",
        "from sklearn.metrics.pairwise import cosine_similarity\n",
        "\n",
        "# Run it to obtain reproducible results across machines (from keras.io)\n",
        "from __future__ import print_function\n",
        "import numpy as np\n",
        "import tensorflow as tf\n",
        "import random as rn\n",
        "import os\n",
        "from tensorflow.keras import optimizers,backend as K\n",
        "os.environ['PYTHONHASHSEED'] = '0'\n",
        "np.random.seed(42)\n",
        "rn.seed(12345)\n",
        "session_conf = tf.ConfigProto(intra_op_parallelism_threads=1, inter_op_parallelism_threads=1)\n",
        "tf.set_random_seed(1234)\n",
        "sess = tf.Session(graph=tf.get_default_graph(), config=session_conf)\n",
        "K.set_session(sess)\n",
        "\n",
        "#For Neural Network\n",
        "from tensorflow.keras.models import Sequential\n",
        "from tensorflow.keras.models import Model\n",
        "from tensorflow.keras.layers import Input, Dense, Concatenate, Reshape, Dropout, Activation,Embedding,Flatten"
      ],
      "execution_count": 0,
      "outputs": [
        {
          "output_type": "display_data",
          "data": {
            "text/html": [
              "<p style=\"color: red;\">\n",
              "The default version of TensorFlow in Colab will soon switch to TensorFlow 2.x.<br>\n",
              "We recommend you <a href=\"https://www.tensorflow.org/guide/migrate\" target=\"_blank\">upgrade</a> now \n",
              "or ensure your notebook will continue to use TensorFlow 1.x via the <code>%tensorflow_version 1.x</code> magic:\n",
              "<a href=\"https://colab.research.google.com/notebooks/tensorflow_version.ipynb\" target=\"_blank\">more info</a>.</p>\n"
            ],
            "text/plain": [
              "<IPython.core.display.HTML object>"
            ]
          },
          "metadata": {
            "tags": []
          }
        }
      ]
    },
    {
      "cell_type": "markdown",
      "metadata": {
        "id": "xppIq5pmY78o",
        "colab_type": "text"
      },
      "source": [
        "# Import Supporting Files"
      ]
    },
    {
      "cell_type": "code",
      "metadata": {
        "id": "R2qiUVgZY-YW",
        "colab_type": "code",
        "outputId": "dae907d5-3977-455b-d7ca-d651a7c68f5e",
        "colab": {
          "base_uri": "https://localhost:8080/",
          "height": 84
        }
      },
      "source": [
        "#Google Word2Vec Pretrained Model\n",
        "link ='https://drive.google.com/open?id=16A169DxZ-h9qU0i6rXCoSh_djkBWnd9V'\n",
        "fluff, id = link.split('=')\n",
        "print (id) # Verify that you have everything after '='\n",
        "downloaded = drive.CreateFile({'id':id}) \n",
        "downloaded.GetContentFile('GoogleNews-vectors-negative300.bin')   \n",
        "model_w2v = gensim.models.KeyedVectors.load_word2vec_format('GoogleNews-vectors-negative300.bin', binary=True) \n",
        "\n",
        "#GloVe Pretrained Model\n",
        "link ='https://drive.google.com/open?id=1p1IN9O_fpSQzPTFB5Y8CCOMXPIPU1WGV'\n",
        "fluff, id = link.split('=')\n",
        "print (id) # Verify that you have everything after '='\n",
        "downloaded = drive.CreateFile({'id':id}) \n",
        "downloaded.GetContentFile('glove.twitter.27B.200d.txt')   \n",
        "def loadGloveModel(gloveFilePath):\n",
        "    print(\"Loading Glove Model\")\n",
        "    f = open(gloveFilePath,'r',encoding='utf-8')\n",
        "    model = {}\n",
        "    for line in f:\n",
        "        splitLine = line.split()\n",
        "        word = splitLine[0]\n",
        "        embedding = np.array([float(val) for val in splitLine[1:]])\n",
        "        model[word] = embedding\n",
        "    print(\"Done.\",len(model),\" words loaded!\")\n",
        "    return model\n",
        "model_GloVe=loadGloveModel('glove.twitter.27B.200d.txt')"
      ],
      "execution_count": 0,
      "outputs": [
        {
          "output_type": "stream",
          "text": [
            "16A169DxZ-h9qU0i6rXCoSh_djkBWnd9V\n",
            "1p1IN9O_fpSQzPTFB5Y8CCOMXPIPU1WGV\n",
            "Loading Glove Model\n",
            "Done. 1193514  words loaded!\n"
          ],
          "name": "stdout"
        }
      ]
    },
    {
      "cell_type": "markdown",
      "metadata": {
        "id": "VdxOVeTajgKn",
        "colab_type": "text"
      },
      "source": [
        "# Import Data"
      ]
    },
    {
      "cell_type": "code",
      "metadata": {
        "id": "ls6maHcmjhqa",
        "colab_type": "code",
        "outputId": "4c1bfc7a-4c9b-4659-8b60-ec7956a4715d",
        "colab": {
          "base_uri": "https://localhost:8080/",
          "height": 51
        }
      },
      "source": [
        "link ='https://drive.google.com/open?id=19nc79hUNZP0xH2IssgSQQTWxNjqAQZnT'\n",
        "fluff, id = link.split('=')\n",
        "print (id) # Verify that you have everything after '='\n",
        "downloaded = drive.CreateFile({'id':id}) \n",
        "downloaded.GetContentFile('df_train_final.csv')  \n",
        "df_train = pd.read_csv('df_train_final.csv')\n",
        "df_train=df_train.drop(['Unnamed: 0','index'],1)\n",
        "\n",
        "link ='https://drive.google.com/open?id=1cDKGfay0oLkGQM0jz4nyk6c9CoE2YIpi'\n",
        "fluff, id = link.split('=')\n",
        "print (id) # Verify that you have everything after '='\n",
        "downloaded = drive.CreateFile({'id':id}) \n",
        "downloaded.GetContentFile('df_test_final.csv')  \n",
        "df_test = pd.read_csv('df_test_final.csv')\n",
        "df_test=df_test.drop(['Unnamed: 0','index'],1)"
      ],
      "execution_count": 0,
      "outputs": [
        {
          "output_type": "stream",
          "text": [
            "19nc79hUNZP0xH2IssgSQQTWxNjqAQZnT\n",
            "1cDKGfay0oLkGQM0jz4nyk6c9CoE2YIpi\n"
          ],
          "name": "stdout"
        }
      ]
    },
    {
      "cell_type": "markdown",
      "metadata": {
        "id": "6YzLJuFOi60S",
        "colab_type": "text"
      },
      "source": [
        "# Function Definition"
      ]
    },
    {
      "cell_type": "code",
      "metadata": {
        "id": "bwuYGYGFi9p-",
        "colab_type": "code",
        "colab": {}
      },
      "source": [
        "def grid_model(df,hidden_nodes_1,hidden_nodes_2,hidden_nodes_3,input_dropout,hidden_dropout,activation_list,optimizer,epochs,batch_size=32,two_layer=False,sentence_vector=False):\n",
        "    '''\n",
        "    Functio for hyperparameter tuning\n",
        "    '''\n",
        "    #Initiate StratifiedKFold Class\n",
        "    kfold = StratifiedKFold(n_splits=10, shuffle=True, random_state=500)\n",
        "    #Split data into dependent and independent variable\n",
        "    X=df.drop(['sentiment score'],1)\n",
        "    y=df['sentiment score']\n",
        "    #Prepare stratify variable\n",
        "    stratify=df['source']\n",
        "    #begin hyperparameter tuning looping\n",
        "    for act in activation_list:\n",
        "      cvscores = [] #list containing metrics score for each fold\n",
        "      start=time()\n",
        "      for train,val in kfold.split(X,stratify):\n",
        "        X_train=X.loc[train,:]\n",
        "        y_train=y[train]\n",
        "        X_val=X.loc[val,:]\n",
        "        y_val=y[val]\n",
        "\n",
        "        if not sentence_vector:\n",
        "          X_train=X_train.drop(['cashtag','spans','text','clean_text','base_text','source'],1)\n",
        "          X_val=X_val.drop(['cashtag','spans','text','clean_text','base_text','source'],1)\n",
        "        else:\n",
        "          X_train=X_train.drop('source',1)\n",
        "          X_val=X_val.drop('source',1)\n",
        "\n",
        "        #Define MLP\n",
        "        model = Sequential()\n",
        "        model.add(Dropout(input_dropout, input_shape=(X_train.shape[1],),seed=0))\n",
        "        model.add(Dense(hidden_nodes_1))\n",
        "        model.add(Activation(act))\n",
        "        model.add(Dropout(hidden_dropout))\n",
        "        model.add(Dense(hidden_nodes_2))\n",
        "        \n",
        "        if not two_layer:\n",
        "          model.add(Activation(act))\n",
        "          model.add(Dropout(hidden_dropout))\n",
        "          model.add(Dense(hidden_nodes_3))\n",
        "          model.add(Activation('tanh'))\n",
        "        else:\n",
        "          model.add(Activation('tanh'))\n",
        "  \n",
        "        model.add(Dense(1))\n",
        "\n",
        "        model.compile(loss='MSE',optimizer=optimizer,metrics=['cosine_proximity']) \n",
        "        model.fit(X_train, y_train,\n",
        "                  batch_size=batch_size,\n",
        "                  epochs=epochs,\n",
        "                  verbose=False,\n",
        "                  validation_data=(X_val, y_val))\n",
        "        score, cos = model.evaluate(X_val, y_val, verbose=False)\n",
        "        cvscores.append(cos)\n",
        "      end=time()\n",
        "      print('Time Elapsed: {}'.format(end-start))\n",
        "      print('Epochs: {}'.format(epochs))\n",
        "      print('Hidden Nodes 1: {}'.format(hidden_nodes_1))\n",
        "      print('Hidden Nodes 2: {}'.format(hidden_nodes_2))\n",
        "      print('Hidden Nodes 3: {}'.format(hidden_nodes_3))\n",
        "      print('Input Dropout Rate: {}'.format(input_dropout))\n",
        "      print('Hidden Dropout Rate: {}'.format(hidden_dropout))\n",
        "      print('Activation Function: {}'.format(act))\n",
        "      print('Optimizer: {}'.format(optimizer))\n",
        "      print('Stratified 10-Fold Cosine Similarity Avg Score: {}, Std Score: {}'.format(np.mean(cvscores),np.std(cvscores)))\n",
        "      print('')\n",
        "  \n",
        "def model(df,df_test,hidden_nodes_1,hidden_nodes_2,hidden_nodes_3,input_dropout,hidden_dropout,act,optimizer,epochs,batch_size=32,two_layer=False,sentence_vector=False):\n",
        "    '''\n",
        "    Function for prediction\n",
        "    '''\n",
        "    if not sentence_vector:\n",
        "      X_train=df.drop(['cashtag','spans','text','clean_text','base_text','source','sentiment score'],1)\n",
        "      y_train=df['sentiment score']\n",
        "      X_test=df_test.drop(['cashtag','spans','text','clean_text','base_text','source','sentiment score'],1)\n",
        "      y_test=df_test['sentiment score']\n",
        "    else:\n",
        "      X_train=df.drop(['source','sentiment score'],1)\n",
        "      y_train=df['sentiment score']\n",
        "      X_test=df_test.drop(['source','sentiment score'],1)\n",
        "      y_test=df_test['sentiment score']\n",
        "    \n",
        "    start=time()\n",
        "    model = Sequential()\n",
        "    model.add(Dropout(input_dropout, input_shape=(X_train.shape[1],),seed=0))\n",
        "    model.add(Dense(hidden_nodes_1))\n",
        "    model.add(Activation(act))\n",
        "    model.add(Dropout(hidden_dropout))\n",
        "    model.add(Dense(hidden_nodes_2))\n",
        "        \n",
        "    if not two_layer:\n",
        "      model.add(Activation(act))\n",
        "      model.add(Dropout(hidden_dropout))\n",
        "      model.add(Dense(hidden_nodes_3))\n",
        "      model.add(Activation('tanh'))\n",
        "    else:\n",
        "      model.add(Activation('tanh'))\n",
        "  \n",
        "    model.add(Dense(1))\n",
        "    model.compile(loss='MSE',optimizer=optimizer,metrics=['cosine_proximity'])\n",
        "\n",
        "    model.fit(X_train, y_train,\n",
        "              batch_size=32,\n",
        "              epochs=epochs,\n",
        "              verbose=False)\n",
        "    pred_test=model.predict(X_test, batch_size=batch_size)\n",
        "    pred_test=pred_test.reshape(1,-1)\n",
        "    end=time()\n",
        "    print('Time Elapsed: {}'.format(end-start))\n",
        "    print('Epochs: {}'.format(epochs))\n",
        "    print('Hidden Nodes 1: {}'.format(hidden_nodes_1))\n",
        "    print('Hidden Nodes 2: {}'.format(hidden_nodes_2))\n",
        "    print('Hidden Nodes 3: {}'.format(hidden_nodes_3))\n",
        "    print('Input Dropout Rate: {}'.format(input_dropout))\n",
        "    print('Hidden Dropout Rate: {}'.format(hidden_dropout))\n",
        "    print('Activation Function: {}'.format(act))\n",
        "    print('Optimizer: {}'.format(optimizer))\n",
        "    print('Test Cosine Similarity Score:{}'.format(cosine_similarity(pred_test,y_test.values.reshape(1,-1))[0][0]))\n",
        "    print('')\n",
        "    return(pd.Series(pred_test[0]))    \n",
        "\n",
        "def tokenize(sentence):\n",
        "  '''\n",
        "  tokenize input into token\n",
        "  '''\n",
        "  token_list=nltk.regexp_tokenize(sentence, pattern=r\"\\s|[\\.,;]\\D\", gaps=True)\n",
        "  return(token_list)\n",
        "\n",
        "def min_multiple_list(S):\n",
        "  '''\n",
        "  Minimum Pooling\n",
        "  '''\n",
        "    it=range(len(S)-1)\n",
        "    minim=S[0]\n",
        "    for i in it:\n",
        "        minim=np.minimum(minim,S[i])\n",
        "    return(minim)\n",
        "\n",
        "def max_multiple_list(S):\n",
        "  '''\n",
        "  Maximum Pooling\n",
        "  '''\n",
        "    it=range(len(S)-1)\n",
        "    maxim=S[0]\n",
        "    for i in it:\n",
        "        maxim=np.maximum(maxim,S[i])\n",
        "    return(maxim)\n",
        "  \n",
        "def W2V_sentence_embedding(df,lite=False,span=False):\n",
        "  '''\n",
        "  return dataframe for W2V sentence embedding\n",
        "  '''\n",
        "  if not span:\n",
        "    column='clean_text'\n",
        "  else:\n",
        "    column='spans'\n",
        "    \n",
        "  zero=np.array([float(0) for i in range(300)])\n",
        "  nan=np.array([np.nan for i in range(300)])\n",
        "  vec_W2V=lambda x: model_w2v[x] if x in model_w2v else zero\n",
        "  W2V_avg=df[column].apply(lambda sent: pd.Series(tokenize(sent)).apply(lambda x: vec_W2V(x)).mean() if type(sent)==str else nan)\n",
        "  \n",
        "  if not lite:\n",
        "    W2V_min=df[column].apply(lambda sent: min_multiple_list(pd.Series(tokenize(sent)).apply(lambda x: vec_W2V(x))) if type(sent)==str else nan)\n",
        "    W2V_max=df[column].apply(lambda sent: max_multiple_list(pd.Series(tokenize(sent)).apply(lambda x: vec_W2V(x))) if type(sent)==str else nan)\n",
        "    W2V_concat=W2V_avg.copy()\n",
        "    it=range(len(W2V_concat))\n",
        "    for i in it:\n",
        "      W2V_concat[i]=(pd.Series(W2V_avg[i]).append(pd.Series(W2V_min[i]),ignore_index=True).append(pd.Series(W2V_max[i]),ignore_index=True)).values\n",
        "    \n",
        "    W2V_df=pd.DataFrame(dict(zip(W2V_concat.index, W2V_concat.values))).T\n",
        "  else:\n",
        "    W2V_df=pd.DataFrame(dict(zip(W2V_avg.index, W2V_avg.values))).T\n",
        "    \n",
        "  W2V_df['source']=df['source']\n",
        "  W2V_df['sentiment score']=df['sentiment score']\n",
        "  col=['x'+str(i) for i in W2V_df.drop(['source','sentiment score'],1).columns.tolist()]\n",
        "  col.append('source')\n",
        "  col.append('sentiment score')\n",
        "  W2V_df.columns=col\n",
        "  return(W2V_df)\n",
        "\n",
        "def GloVe_sentence_embedding(df,lite=False,span=False):\n",
        "  '''\n",
        "  return dataframe for GloVe sentence embedding\n",
        "  '''\n",
        "  if not span:\n",
        "    column='clean_text'\n",
        "  else:\n",
        "    column='spans'\n",
        "    \n",
        "  zero=np.array([float(0) for i in range(200)])\n",
        "  nan=np.array([np.nan for i in range(200)])\n",
        "  vec_GloVe=lambda x: model_GloVe[x] if x in model_GloVe else zero\n",
        "  GloVe_avg=df[column].apply(lambda sent: pd.Series(tokenize(sent)).apply(lambda x: vec_GloVe(x)).mean() if type(sent)==str else nan)\n",
        "  if not lite:\n",
        "    GloVe_min=df[column].apply(lambda sent: min_multiple_list(pd.Series(tokenize(sent)).apply(lambda x: vec_GloVe(x))) if type(sent)==str else nan)\n",
        "    GloVe_max=df[column].apply(lambda sent: max_multiple_list(pd.Series(tokenize(sent)).apply(lambda x: vec_GloVe(x))) if type(sent)==str else nan)\n",
        "    GloVe_concat=GloVe_avg.copy()\n",
        "    it=range(len(GloVe_concat))\n",
        "    for i in it:\n",
        "      GloVe_concat[i]=(pd.Series(GloVe_avg[i]).append(pd.Series(GloVe_min[i]),ignore_index=True).append(pd.Series(GloVe_max[i]),ignore_index=True)).values\n",
        "    \n",
        "    GloVe_df=pd.DataFrame(dict(zip(GloVe_concat.index, GloVe_concat.values))).T\n",
        "  else:\n",
        "    GloVe_df=pd.DataFrame(dict(zip(GloVe_avg.index, GloVe_avg.values))).T\n",
        "    \n",
        "  GloVe_df['source']=df['source']\n",
        "  GloVe_df['sentiment score']=df['sentiment score']\n",
        "  col=['x'+str(i) for i in GloVe_df.drop(['source','sentiment score'],1).columns.tolist()]\n",
        "  col.append('source')\n",
        "  col.append('sentiment score')\n",
        "  GloVe_df.columns=col\n",
        "  return(GloVe_df)"
      ],
      "execution_count": 0,
      "outputs": []
    },
    {
      "cell_type": "code",
      "metadata": {
        "id": "1e1hTnX_6D2q",
        "colab_type": "code",
        "colab": {}
      },
      "source": [
        "df_train.head()"
      ],
      "execution_count": 0,
      "outputs": []
    },
    {
      "cell_type": "markdown",
      "metadata": {
        "id": "Xv2Epn0HkaOq",
        "colab_type": "text"
      },
      "source": [
        "# MLP Feature Driven"
      ]
    },
    {
      "cell_type": "markdown",
      "metadata": {
        "id": "2PfDhOB6euGe",
        "colab_type": "text"
      },
      "source": [
        "## Hyperparameter Tuning"
      ]
    },
    {
      "cell_type": "code",
      "metadata": {
        "id": "JVnF_OPn7Zcw",
        "colab_type": "code",
        "outputId": "6975920c-a5cd-40fa-8ce5-633fd12b58ce",
        "colab": {
          "base_uri": "https://localhost:8080/",
          "height": 645
        }
      },
      "source": [
        "grid_model(df_train,hidden_nodes_1=50,hidden_nodes_2=30,hidden_nodes_3=15,input_dropout=0.15,hidden_dropout=0.2,activation_list=['relu','tanh','elu'],optimizer='adam',epochs=200,two_layer=False,sentence_vector=False)"
      ],
      "execution_count": 0,
      "outputs": [
        {
          "output_type": "stream",
          "text": [
            "WARNING:tensorflow:From /usr/local/lib/python3.6/dist-packages/tensorflow_core/python/ops/resource_variable_ops.py:1630: calling BaseResourceVariable.__init__ (from tensorflow.python.ops.resource_variable_ops) with constraint is deprecated and will be removed in a future version.\n",
            "Instructions for updating:\n",
            "If using Keras pass *_constraint arguments to layers.\n",
            "Time Elapsed: 226.1183626651764\n",
            "Epochs: 200\n",
            "Hidden Nodes 1: 50\n",
            "Hidden Nodes 2: 30\n",
            "Hidden Nodes 3: 15\n",
            "Input Dropout Rate: 0.15\n",
            "Hidden Dropout Rate: 0.2\n",
            "Activation Function: relu\n",
            "Optimizer: adam\n",
            "Stratified k-Fold Cosine Similarity Avg Score: 0.8951565027236938, Std Score: 0.025400707498192787\n",
            "\n",
            "Time Elapsed: 247.98554801940918\n",
            "Epochs: 200\n",
            "Hidden Nodes 1: 50\n",
            "Hidden Nodes 2: 30\n",
            "Hidden Nodes 3: 15\n",
            "Input Dropout Rate: 0.15\n",
            "Hidden Dropout Rate: 0.2\n",
            "Activation Function: tanh\n",
            "Optimizer: adam\n",
            "Stratified k-Fold Cosine Similarity Avg Score: 0.9003740549087524, Std Score: 0.031864020973443985\n",
            "\n",
            "Time Elapsed: 273.68214440345764\n",
            "Epochs: 200\n",
            "Hidden Nodes 1: 50\n",
            "Hidden Nodes 2: 30\n",
            "Hidden Nodes 3: 15\n",
            "Input Dropout Rate: 0.15\n",
            "Hidden Dropout Rate: 0.2\n",
            "Activation Function: elu\n",
            "Optimizer: adam\n",
            "Stratified k-Fold Cosine Similarity Avg Score: 0.8882153630256653, Std Score: 0.026528913527727127\n",
            "\n"
          ],
          "name": "stdout"
        }
      ]
    },
    {
      "cell_type": "code",
      "metadata": {
        "id": "9kh8wIN6FU22",
        "colab_type": "code",
        "outputId": "92f86f38-9430-41d7-b4a1-144df3f4e4b3",
        "colab": {
          "base_uri": "https://localhost:8080/",
          "height": 203
        }
      },
      "source": [
        "grid_model(df_train,hidden_nodes_1=50,hidden_nodes_2=30,hidden_nodes_3=15,input_dropout=0.1,hidden_dropout=0.2,activation_list=['tanh'],optimizer='adam',epochs=200,two_layer=False,sentence_vector=False)"
      ],
      "execution_count": 0,
      "outputs": [
        {
          "output_type": "stream",
          "text": [
            "Time Elapsed: 333.4433732032776\n",
            "Epochs: 200\n",
            "Hidden Nodes 1: 50\n",
            "Hidden Nodes 2: 30\n",
            "Hidden Nodes 3: 15\n",
            "Input Dropout Rate: 0.1\n",
            "Hidden Dropout Rate: 0.2\n",
            "Activation Function: tanh\n",
            "Optimizer: adam\n",
            "Stratified k-Fold Cosine Similarity Avg Score: 0.8883042335510254, Std Score: 0.03374252840876579\n",
            "\n"
          ],
          "name": "stdout"
        }
      ]
    },
    {
      "cell_type": "markdown",
      "metadata": {
        "id": "B-ebErL5ersz",
        "colab_type": "text"
      },
      "source": [
        "## Prediction"
      ]
    },
    {
      "cell_type": "code",
      "metadata": {
        "id": "vnwaHym-gUWg",
        "colab_type": "code",
        "outputId": "126c6dfb-8def-4aaa-80b6-3c8baaae1790",
        "colab": {
          "base_uri": "https://localhost:8080/",
          "height": 203
        }
      },
      "source": [
        "pred_MLP_Feature_Driven=model(df_train,df_test,hidden_nodes_1=50,hidden_nodes_2=30,hidden_nodes_3=15,input_dropout=0.15,hidden_dropout=0.2,act='tanh',optimizer='adam',epochs=200,two_layer=False,sentence_vector=False)"
      ],
      "execution_count": 0,
      "outputs": [
        {
          "output_type": "stream",
          "text": [
            "Time Elapsed: 23.391836404800415\n",
            "Epochs: 200\n",
            "Hidden Nodes 1: 50\n",
            "Hidden Nodes 2: 30\n",
            "Hidden Nodes 3: 15\n",
            "Input Dropout Rate: 0.15\n",
            "Hidden Dropout Rate: 0.2\n",
            "Activation Function: tanh\n",
            "Optimizer: adam\n",
            "Test Cosine Similarity Score:0.8780225047313124\n",
            "\n"
          ],
          "name": "stdout"
        }
      ]
    },
    {
      "cell_type": "code",
      "metadata": {
        "colab_type": "code",
        "id": "mPjd_rY-AW5h",
        "colab": {}
      },
      "source": [
        "pd.DataFrame(pred_MLP_Feature_Driven,columns=['pred_MLP_Feature_Driven']).to_csv('pred_MLP_Feature_Driven.csv')"
      ],
      "execution_count": 0,
      "outputs": []
    },
    {
      "cell_type": "markdown",
      "metadata": {
        "id": "zdRus5XaYYIF",
        "colab_type": "text"
      },
      "source": [
        "# MLP Sentence Vector"
      ]
    },
    {
      "cell_type": "code",
      "metadata": {
        "id": "YDE79AmjZi7o",
        "colab_type": "code",
        "colab": {}
      },
      "source": [
        "#Word2Vec Sentence Embedding dataframe\n",
        "W2V_df_train=W2V_sentence_embedding(df_train)\n",
        "W2V_df_test=W2V_sentence_embedding(df_test)\n",
        "#GloVe Sentence Embedding dataframe\n",
        "GloVe_df_train=GloVe_sentence_embedding(df_train)\n",
        "GloVe_df_test=GloVe_sentence_embedding(df_test)"
      ],
      "execution_count": 0,
      "outputs": []
    },
    {
      "cell_type": "markdown",
      "metadata": {
        "id": "AZW8fEoKkl3D",
        "colab_type": "text"
      },
      "source": [
        "## W2V Hyperparameter Tuning"
      ]
    },
    {
      "cell_type": "code",
      "metadata": {
        "id": "CagzJwZakpD_",
        "colab_type": "code",
        "outputId": "2fed926e-daa6-416f-89ec-8362b258b1ae",
        "colab": {
          "base_uri": "https://localhost:8080/",
          "height": 574
        }
      },
      "source": [
        "grid_model(W2V_df_train,hidden_nodes_1=50,hidden_nodes_2=25,hidden_nodes_3=10,input_dropout=0.2,hidden_dropout=0.2,activation_list=['elu','tanh','relu'],optimizer='adam',epochs=200,batch_size=32,two_layer=False,sentence_vector=True)"
      ],
      "execution_count": 0,
      "outputs": [
        {
          "output_type": "stream",
          "text": [
            "Time Elapsed: 249.4553472995758\n",
            "Epochs: 200\n",
            "Hidden Nodes 1: 50\n",
            "Hidden Nodes 2: 25\n",
            "Hidden Nodes 3: 10\n",
            "Input Dropout Rate: 0.2\n",
            "Hidden Dropout Rate: 0.2\n",
            "Activation Function: elu\n",
            "Optimizer: adam\n",
            "Stratified 10-Fold Cosine Similarity Avg Score: 0.5274509787559509, Std Score: 0.08557087182998657\n",
            "\n",
            "Time Elapsed: 265.29081177711487\n",
            "Epochs: 200\n",
            "Hidden Nodes 1: 50\n",
            "Hidden Nodes 2: 25\n",
            "Hidden Nodes 3: 10\n",
            "Input Dropout Rate: 0.2\n",
            "Hidden Dropout Rate: 0.2\n",
            "Activation Function: tanh\n",
            "Optimizer: adam\n",
            "Stratified 10-Fold Cosine Similarity Avg Score: 0.512036144733429, Std Score: 0.09375698119401932\n",
            "\n",
            "Time Elapsed: 304.1298086643219\n",
            "Epochs: 200\n",
            "Hidden Nodes 1: 50\n",
            "Hidden Nodes 2: 25\n",
            "Hidden Nodes 3: 10\n",
            "Input Dropout Rate: 0.2\n",
            "Hidden Dropout Rate: 0.2\n",
            "Activation Function: relu\n",
            "Optimizer: adam\n",
            "Stratified 10-Fold Cosine Similarity Avg Score: 0.5496419072151184, Std Score: 0.07226593047380447\n",
            "\n"
          ],
          "name": "stdout"
        }
      ]
    },
    {
      "cell_type": "markdown",
      "metadata": {
        "id": "L5g3LDbd0guw",
        "colab_type": "text"
      },
      "source": [
        "## W2V Prediction"
      ]
    },
    {
      "cell_type": "code",
      "metadata": {
        "id": "Nhe20oxZdJfH",
        "colab_type": "code",
        "outputId": "661c3ff7-dfe4-4a92-8a34-8afbe7fa8e50",
        "colab": {
          "base_uri": "https://localhost:8080/",
          "height": 203
        }
      },
      "source": [
        "pred_MLP_W2V_Sentence_Vector=model(W2V_df_train,W2V_df_test,hidden_nodes_1=50,hidden_nodes_2=25,hidden_nodes_3=10,input_dropout=0.2,hidden_dropout=0.2,act='relu',optimizer='adam',epochs=200,two_layer=False,sentence_vector=True)"
      ],
      "execution_count": 0,
      "outputs": [
        {
          "output_type": "stream",
          "text": [
            "Time Elapsed: 32.39320516586304\n",
            "Epochs: 200\n",
            "Hidden Nodes 1: 50\n",
            "Hidden Nodes 2: 25\n",
            "Hidden Nodes 3: 10\n",
            "Input Dropout Rate: 0.2\n",
            "Hidden Dropout Rate: 0.2\n",
            "Activation Function: relu\n",
            "Optimizer: adam\n",
            "Test Cosine Similarity Score:0.7065173223386277\n",
            "\n"
          ],
          "name": "stdout"
        }
      ]
    },
    {
      "cell_type": "code",
      "metadata": {
        "id": "QPAhHKB9dNtu",
        "colab_type": "code",
        "colab": {}
      },
      "source": [
        "pd.DataFrame(pred_MLP_W2V_Sentence_Vector,columns=['pred_MLP_W2V_Sentence_Vector']).to_csv('pred_MLP_W2V_Sentence_Vector.csv')"
      ],
      "execution_count": 0,
      "outputs": []
    },
    {
      "cell_type": "markdown",
      "metadata": {
        "id": "TspBo4xD1flM",
        "colab_type": "text"
      },
      "source": [
        "## GloVe Hyperparameter Tuning"
      ]
    },
    {
      "cell_type": "code",
      "metadata": {
        "id": "YoPxq_js1jKF",
        "colab_type": "code",
        "outputId": "a6f45ca3-1af1-459d-d25e-6b14c4c5554d",
        "colab": {
          "base_uri": "https://localhost:8080/",
          "height": 574
        }
      },
      "source": [
        "grid_model(GloVe_df_train,hidden_nodes_1=90,hidden_nodes_2=50,hidden_nodes_3=30,input_dropout=0.2,hidden_dropout=0.35,activation_list=['relu','tanh','elu'],optimizer='adam',epochs=75,batch_size=32,two_layer=False,sentence_vector=True)"
      ],
      "execution_count": 0,
      "outputs": [
        {
          "output_type": "stream",
          "text": [
            "Time Elapsed: 314.93492913246155\n",
            "Epochs: 75\n",
            "Hidden Nodes 1: 90\n",
            "Hidden Nodes 2: 50\n",
            "Hidden Nodes 3: 30\n",
            "Input Dropout Rate: 0.2\n",
            "Hidden Dropout Rate: 0.35\n",
            "Activation Function: relu\n",
            "Optimizer: adam\n",
            "Stratified 10-Fold Cosine Similarity Avg Score: 0.41555365920066833, Std Score: 0.08183988183736801\n",
            "\n",
            "Time Elapsed: 337.6875786781311\n",
            "Epochs: 75\n",
            "Hidden Nodes 1: 90\n",
            "Hidden Nodes 2: 50\n",
            "Hidden Nodes 3: 30\n",
            "Input Dropout Rate: 0.2\n",
            "Hidden Dropout Rate: 0.35\n",
            "Activation Function: tanh\n",
            "Optimizer: adam\n",
            "Stratified 10-Fold Cosine Similarity Avg Score: 0.34526166319847107, Std Score: 0.11206923425197601\n",
            "\n",
            "Time Elapsed: 365.846720457077\n",
            "Epochs: 75\n",
            "Hidden Nodes 1: 90\n",
            "Hidden Nodes 2: 50\n",
            "Hidden Nodes 3: 30\n",
            "Input Dropout Rate: 0.2\n",
            "Hidden Dropout Rate: 0.35\n",
            "Activation Function: elu\n",
            "Optimizer: adam\n",
            "Stratified 10-Fold Cosine Similarity Avg Score: 0.41400742530822754, Std Score: 0.08110479265451431\n",
            "\n"
          ],
          "name": "stdout"
        }
      ]
    },
    {
      "cell_type": "code",
      "metadata": {
        "id": "MaXNkpBWCV_Y",
        "colab_type": "code",
        "outputId": "574f491f-76fc-4ef9-a2c0-19c7d92dbc38",
        "colab": {
          "base_uri": "https://localhost:8080/",
          "height": 203
        }
      },
      "source": [
        "grid_model(GloVe_df_train,hidden_nodes_1=90,hidden_nodes_2=50,hidden_nodes_3=30,input_dropout=0.2,hidden_dropout=0.35,activation_list=['relu'],optimizer='sgd',epochs=75,batch_size=32,two_layer=False,sentence_vector=True)"
      ],
      "execution_count": 0,
      "outputs": [
        {
          "output_type": "stream",
          "text": [
            "Time Elapsed: 388.64111828804016\n",
            "Epochs: 75\n",
            "Hidden Nodes 1: 90\n",
            "Hidden Nodes 2: 50\n",
            "Hidden Nodes 3: 30\n",
            "Input Dropout Rate: 0.2\n",
            "Hidden Dropout Rate: 0.35\n",
            "Activation Function: relu\n",
            "Optimizer: sgd\n",
            "Stratified 10-Fold Cosine Similarity Avg Score: 0.3071209788322449, Std Score: 0.09145727008581161\n",
            "\n"
          ],
          "name": "stdout"
        }
      ]
    },
    {
      "cell_type": "markdown",
      "metadata": {
        "id": "-8_0fsmW5p0-",
        "colab_type": "text"
      },
      "source": [
        "## GloVe Prediction"
      ]
    },
    {
      "cell_type": "code",
      "metadata": {
        "id": "8AA4LrKT5six",
        "colab_type": "code",
        "outputId": "38ac4379-3a28-4670-ad55-40284ca90ff9",
        "colab": {
          "base_uri": "https://localhost:8080/",
          "height": 203
        }
      },
      "source": [
        "pred_MLP_GloVe_Sentence_Vector=model(GloVe_df_train,GloVe_df_test,hidden_nodes_1=90,hidden_nodes_2=50,hidden_nodes_3=30,input_dropout=0.2,hidden_dropout=0.35,act='relu',optimizer='adam',epochs=75,batch_size=32,two_layer=False,sentence_vector=True)"
      ],
      "execution_count": 0,
      "outputs": [
        {
          "output_type": "stream",
          "text": [
            "Time Elapsed: 40.818522930145264\n",
            "Epochs: 75\n",
            "Hidden Nodes 1: 90\n",
            "Hidden Nodes 2: 50\n",
            "Hidden Nodes 3: 30\n",
            "Input Dropout Rate: 0.2\n",
            "Hidden Dropout Rate: 0.35\n",
            "Activation Function: relu\n",
            "Optimizer: adam\n",
            "Test Cosine Similarity Score:0.5177242936099722\n",
            "\n"
          ],
          "name": "stdout"
        }
      ]
    },
    {
      "cell_type": "code",
      "metadata": {
        "id": "O6-umO7PEL6M",
        "colab_type": "code",
        "colab": {}
      },
      "source": [
        "pd.DataFrame(pred_MLP_GloVe_Sentence_Vector,columns=['pred_MLP_GloVe_Sentence_Vector']).to_csv('pred_MLP_GloVe_Sentence_Vector.csv')"
      ],
      "execution_count": 0,
      "outputs": []
    },
    {
      "cell_type": "markdown",
      "metadata": {
        "id": "M712OCyD5W83",
        "colab_type": "text"
      },
      "source": [
        "# MLP Sentence Vector Lite"
      ]
    },
    {
      "cell_type": "code",
      "metadata": {
        "id": "S_r0jzKE5Zhx",
        "colab_type": "code",
        "colab": {}
      },
      "source": [
        "#Word2Vec Sentence Embedding dataframe\n",
        "W2V_df_train_lite=W2V_sentence_embedding(df_train,lite=True)\n",
        "W2V_df_test_lite=W2V_sentence_embedding(df_test,lite=True)\n",
        "#GloVe Sentence Embedding dataframe\n",
        "GloVe_df_train_lite=GloVe_sentence_embedding(df_train,lite=True)\n",
        "GloVe_df_test_lite=GloVe_sentence_embedding(df_test,lite=True)"
      ],
      "execution_count": 0,
      "outputs": []
    },
    {
      "cell_type": "markdown",
      "metadata": {
        "id": "50Ea_jOFEkTQ",
        "colab_type": "text"
      },
      "source": [
        "## W2V Lite Hyperparameter Tuning"
      ]
    },
    {
      "cell_type": "code",
      "metadata": {
        "id": "7V05RnfgEi65",
        "colab_type": "code",
        "outputId": "55020cf8-cfe1-4a95-eaff-144324ed6ae7",
        "colab": {
          "base_uri": "https://localhost:8080/",
          "height": 1000
        }
      },
      "source": [
        "grid_model(W2V_df_train_lite,W2V_df_test_lite,hidden_layer_nodes_list=[20,30,40],activation_list=['tanh','relu','elu'],optimizer='adam',two_layer=True,sentence_vector=True,epochs=150)"
      ],
      "execution_count": 0,
      "outputs": [
        {
          "output_type": "stream",
          "text": [
            "Hidden Layer Nodes: 20\n",
            "Activation Function: tanh\n",
            "Optimizer: adam\n",
            "Test Cosine Similarity Score:0.6160594250686096\n",
            "Time Elapsed: 88.42888355255127\n",
            "\n",
            "\n",
            "Hidden Layer Nodes: 30\n",
            "Activation Function: tanh\n",
            "Optimizer: adam\n",
            "Test Cosine Similarity Score:0.6306608461248566\n",
            "Time Elapsed: 87.18056321144104\n",
            "\n",
            "\n",
            "Hidden Layer Nodes: 40\n",
            "Activation Function: tanh\n",
            "Optimizer: adam\n",
            "Test Cosine Similarity Score:0.6116119445716933\n",
            "Time Elapsed: 87.4682195186615\n",
            "\n",
            "\n",
            "Hidden Layer Nodes: 20\n",
            "Activation Function: relu\n",
            "Optimizer: adam\n",
            "Test Cosine Similarity Score:0.6216701113948772\n",
            "Time Elapsed: 89.16574192047119\n",
            "\n",
            "\n",
            "Hidden Layer Nodes: 30\n",
            "Activation Function: relu\n",
            "Optimizer: adam\n",
            "Test Cosine Similarity Score:0.6632882388736354\n",
            "Time Elapsed: 88.30841946601868\n",
            "\n",
            "\n",
            "Hidden Layer Nodes: 40\n",
            "Activation Function: relu\n",
            "Optimizer: adam\n",
            "Test Cosine Similarity Score:0.625196227631343\n",
            "Time Elapsed: 91.32043528556824\n",
            "\n",
            "\n",
            "Hidden Layer Nodes: 20\n",
            "Activation Function: elu\n",
            "Optimizer: adam\n",
            "Test Cosine Similarity Score:0.5993873969437827\n",
            "Time Elapsed: 92.22074174880981\n",
            "\n",
            "\n",
            "Hidden Layer Nodes: 30\n",
            "Activation Function: elu\n",
            "Optimizer: adam\n",
            "Test Cosine Similarity Score:0.6077920143163372\n",
            "Time Elapsed: 92.36034321784973\n",
            "\n",
            "\n",
            "Hidden Layer Nodes: 40\n",
            "Activation Function: elu\n",
            "Optimizer: adam\n",
            "Test Cosine Similarity Score:0.6244261757604926\n",
            "Time Elapsed: 91.71027183532715\n",
            "\n",
            "\n"
          ],
          "name": "stdout"
        }
      ]
    },
    {
      "cell_type": "code",
      "metadata": {
        "id": "bwH3hsRWz3Jv",
        "colab_type": "code",
        "outputId": "d7c7b95e-1d17-4018-ab45-e6424ba2eadb",
        "colab": {
          "base_uri": "https://localhost:8080/",
          "height": 135
        }
      },
      "source": [
        "grid_model(W2V_df_train_lite,W2V_df_test_lite,hidden_layer_nodes_list=[30],activation_list=['relu'],optimizer='sgd',two_layer=True,sentence_vector=True,epochs=150)"
      ],
      "execution_count": 0,
      "outputs": [
        {
          "output_type": "stream",
          "text": [
            "Hidden Layer Nodes: 30\n",
            "Activation Function: relu\n",
            "Optimizer: sgd\n",
            "Test Cosine Similarity Score:0.5651049885677355\n",
            "Time Elapsed: 91.97556614875793\n",
            "\n",
            "\n"
          ],
          "name": "stdout"
        }
      ]
    },
    {
      "cell_type": "markdown",
      "metadata": {
        "id": "POVmdDLGAjk1",
        "colab_type": "text"
      },
      "source": [
        "## W2V Lite Prediction"
      ]
    },
    {
      "cell_type": "code",
      "metadata": {
        "id": "JpJhjVlcAnU_",
        "colab_type": "code",
        "outputId": "2c16101c-6578-44d7-a14a-7c954b13e921",
        "colab": {
          "base_uri": "https://localhost:8080/",
          "height": 135
        }
      },
      "source": [
        "pred_MLP_W2V_lite_Sentence_Vector=model(W2V_df_train_lite,W2V_df_test_lite,hidden=30,act='relu',optimizer='adam',two_layer=True,sentence_vector=True,epochs=150)"
      ],
      "execution_count": 0,
      "outputs": [
        {
          "output_type": "stream",
          "text": [
            "Hidden Layer Nodes: 30\n",
            "Activation Function: relu\n",
            "Optimizer: adam\n",
            "Test Cosine Similarity Score:0.6572309135824692\n",
            "Time Elapsed: 47.66274285316467\n",
            "\n",
            "\n"
          ],
          "name": "stdout"
        }
      ]
    },
    {
      "cell_type": "code",
      "metadata": {
        "id": "YIw7XslRA2gC",
        "colab_type": "code",
        "colab": {}
      },
      "source": [
        "pd.DataFrame(pred_MLP_W2V_lite_Sentence_Vector,columns=['pred_MLP_W2V_lite_Sentence_Vector']).to_csv('pred_MLP_W2V_lite_Sentence_Vector.csv')"
      ],
      "execution_count": 0,
      "outputs": []
    },
    {
      "cell_type": "markdown",
      "metadata": {
        "id": "kxyQ8ezHA7mM",
        "colab_type": "text"
      },
      "source": [
        "## GloVe Lite Hyperparameter Tuning"
      ]
    },
    {
      "cell_type": "code",
      "metadata": {
        "id": "3-UiS7DoA_B8",
        "colab_type": "code",
        "outputId": "676b7aa0-8c03-4705-98c2-e2cf0b215328",
        "colab": {
          "base_uri": "https://localhost:8080/",
          "height": 1000
        }
      },
      "source": [
        "grid_model(GloVe_df_train_lite,GloVe_df_test_lite,hidden_layer_nodes_list=[25,30,40,50],activation_list=['tanh','relu','elu'],optimizer='adam',two_layer=True,sentence_vector=True,epochs=200)"
      ],
      "execution_count": 0,
      "outputs": [
        {
          "output_type": "stream",
          "text": [
            "Hidden Layer Nodes: 25\n",
            "Activation Function: tanh\n",
            "Optimizer: adam\n",
            "Test Cosine Similarity Score:0.47636942290126194\n",
            "Time Elapsed: 72.429368019104\n",
            "\n",
            "\n",
            "Hidden Layer Nodes: 30\n",
            "Activation Function: tanh\n",
            "Optimizer: adam\n",
            "Test Cosine Similarity Score:0.44591472742141924\n",
            "Time Elapsed: 78.77393698692322\n",
            "\n",
            "\n",
            "Hidden Layer Nodes: 40\n",
            "Activation Function: tanh\n",
            "Optimizer: adam\n",
            "Test Cosine Similarity Score:0.40425984107559065\n",
            "Time Elapsed: 77.10419225692749\n",
            "\n",
            "\n",
            "Hidden Layer Nodes: 50\n",
            "Activation Function: tanh\n",
            "Optimizer: adam\n",
            "Test Cosine Similarity Score:0.4657886758307373\n",
            "Time Elapsed: 77.46132326126099\n",
            "\n",
            "\n",
            "Hidden Layer Nodes: 25\n",
            "Activation Function: relu\n",
            "Optimizer: adam\n",
            "Test Cosine Similarity Score:0.47663081534880636\n",
            "Time Elapsed: 76.20769715309143\n",
            "\n",
            "\n",
            "Hidden Layer Nodes: 30\n",
            "Activation Function: relu\n",
            "Optimizer: adam\n",
            "Test Cosine Similarity Score:0.47497150800798105\n",
            "Time Elapsed: 79.45700764656067\n",
            "\n",
            "\n",
            "Hidden Layer Nodes: 40\n",
            "Activation Function: relu\n",
            "Optimizer: adam\n",
            "Test Cosine Similarity Score:0.5100643990694882\n",
            "Time Elapsed: 79.06392931938171\n",
            "\n",
            "\n",
            "Hidden Layer Nodes: 50\n",
            "Activation Function: relu\n",
            "Optimizer: adam\n",
            "Test Cosine Similarity Score:0.4617317331789359\n",
            "Time Elapsed: 76.51714658737183\n",
            "\n",
            "\n",
            "Hidden Layer Nodes: 25\n",
            "Activation Function: elu\n",
            "Optimizer: adam\n",
            "Test Cosine Similarity Score:0.4214087122636552\n",
            "Time Elapsed: 80.33821296691895\n",
            "\n",
            "\n",
            "Hidden Layer Nodes: 30\n",
            "Activation Function: elu\n",
            "Optimizer: adam\n",
            "Test Cosine Similarity Score:0.49005042200553367\n",
            "Time Elapsed: 88.21852684020996\n",
            "\n",
            "\n",
            "Hidden Layer Nodes: 40\n",
            "Activation Function: elu\n",
            "Optimizer: adam\n",
            "Test Cosine Similarity Score:0.43689818277014786\n",
            "Time Elapsed: 85.43165445327759\n",
            "\n",
            "\n",
            "Hidden Layer Nodes: 50\n",
            "Activation Function: elu\n",
            "Optimizer: adam\n",
            "Test Cosine Similarity Score:0.47763072362969017\n",
            "Time Elapsed: 82.18192410469055\n",
            "\n",
            "\n"
          ],
          "name": "stdout"
        }
      ]
    },
    {
      "cell_type": "code",
      "metadata": {
        "id": "FhVx9xwGGDvE",
        "colab_type": "code",
        "outputId": "10f4a4e7-f8e1-473a-bac2-ee7d15ae2806",
        "colab": {
          "base_uri": "https://localhost:8080/",
          "height": 135
        }
      },
      "source": [
        "grid_model(GloVe_df_train_lite,GloVe_df_test_lite,hidden_layer_nodes_list=[30],activation_list=['elu'],optimizer='sgd',two_layer=True,sentence_vector=True,epochs=200)"
      ],
      "execution_count": 0,
      "outputs": [
        {
          "output_type": "stream",
          "text": [
            "Hidden Layer Nodes: 30\n",
            "Activation Function: elu\n",
            "Optimizer: sgd\n",
            "Test Cosine Similarity Score:0.39846414944963854\n",
            "Time Elapsed: 72.12655472755432\n",
            "\n",
            "\n"
          ],
          "name": "stdout"
        }
      ]
    },
    {
      "cell_type": "markdown",
      "metadata": {
        "id": "maNRCPb1GJYK",
        "colab_type": "text"
      },
      "source": [
        "## GloVe Lite Prediction"
      ]
    },
    {
      "cell_type": "code",
      "metadata": {
        "id": "qOo10x-CGLgB",
        "colab_type": "code",
        "colab": {}
      },
      "source": [
        "pred_MLP_GloVe_Lite_Sentence_Vector=model(GloVe_df_train_lite,GloVe_df_test_lite,hidden=30,act='elu',optimizer='adam',two_layer=True,sentence_vector=True,epochs=200)"
      ],
      "execution_count": 0,
      "outputs": []
    },
    {
      "cell_type": "code",
      "metadata": {
        "id": "Glky4KS6I6XZ",
        "colab_type": "code",
        "colab": {}
      },
      "source": [
        "pd.DataFrame(pred_MLP_GloVe_Lite_Sentence_Vector,columns=['pred_MLP_GloVe_Lite_Sentence_Vector']).to_csv('pred_MLP_GloVe_Lite_Sentence_Vector.csv')"
      ],
      "execution_count": 0,
      "outputs": []
    }
  ]
}