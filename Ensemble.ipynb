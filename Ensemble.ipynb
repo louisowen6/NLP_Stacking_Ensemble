{
  "nbformat": 4,
  "nbformat_minor": 0,
  "metadata": {
    "colab": {
      "name": "Ensemble.ipynb",
      "provenance": [],
      "collapsed_sections": [
        "3viYpuZ_ulhn",
        "gFaG1l5_u92f",
        "QK_REtl9xwFm",
        "OxJzze5YSPdr",
        "51zUcc0dFSYk",
        "BBcPdf4IFUm-",
        "ka6G0eRVETyO",
        "10qa7UtlMMXK"
      ],
      "include_colab_link": true
    },
    "kernelspec": {
      "name": "python3",
      "display_name": "Python 3"
    },
    "accelerator": "GPU"
  },
  "cells": [
    {
      "cell_type": "markdown",
      "metadata": {
        "id": "view-in-github",
        "colab_type": "text"
      },
      "source": [
        "<a href=\"https://colab.research.google.com/github/louisowen6/NLP_Stacking_Ensemble/blob/master/Ensemble.ipynb\" target=\"_parent\"><img src=\"https://colab.research.google.com/assets/colab-badge.svg\" alt=\"Open In Colab\"/></a>"
      ]
    },
    {
      "cell_type": "markdown",
      "metadata": {
        "id": "3viYpuZ_ulhn",
        "colab_type": "text"
      },
      "source": [
        "# Mount the Google Drive"
      ]
    },
    {
      "cell_type": "code",
      "metadata": {
        "id": "Fk6TfclMtYFR",
        "colab_type": "code",
        "outputId": "6e5d08a8-77c6-42fa-a99b-42f30c43823d",
        "colab": {
          "base_uri": "https://localhost:8080/",
          "height": 121
        }
      },
      "source": [
        "from google.colab import drive\n",
        "drive.mount('/content/gdrive')"
      ],
      "execution_count": 0,
      "outputs": [
        {
          "output_type": "stream",
          "text": [
            "Go to this URL in a browser: https://accounts.google.com/o/oauth2/auth?client_id=947318989803-6bn6qk8qdgf4n4g3pfee6491hc0brc4i.apps.googleusercontent.com&redirect_uri=urn%3Aietf%3Awg%3Aoauth%3A2.0%3Aoob&scope=email%20https%3A%2F%2Fwww.googleapis.com%2Fauth%2Fdocs.test%20https%3A%2F%2Fwww.googleapis.com%2Fauth%2Fdrive%20https%3A%2F%2Fwww.googleapis.com%2Fauth%2Fdrive.photos.readonly%20https%3A%2F%2Fwww.googleapis.com%2Fauth%2Fpeopleapi.readonly&response_type=code\n",
            "\n",
            "Enter your authorization code:\n",
            "··········\n",
            "Mounted at /content/gdrive\n"
          ],
          "name": "stdout"
        }
      ]
    },
    {
      "cell_type": "code",
      "metadata": {
        "id": "jMtV2QScuq1m",
        "colab_type": "code",
        "colab": {}
      },
      "source": [
        "# Code to read csv file into Colaboratory:\n",
        "!pip install -U -q PyDrive\n",
        "from pydrive.auth import GoogleAuth\n",
        "from pydrive.drive import GoogleDrive\n",
        "from google.colab import auth\n",
        "from oauth2client.client import GoogleCredentials\n",
        "# Authenticate and create the PyDrive client.\n",
        "auth.authenticate_user()\n",
        "gauth = GoogleAuth()\n",
        "gauth.credentials = GoogleCredentials.get_application_default()\n",
        "drive = GoogleDrive(gauth)"
      ],
      "execution_count": 0,
      "outputs": []
    },
    {
      "cell_type": "markdown",
      "metadata": {
        "id": "gFaG1l5_u92f",
        "colab_type": "text"
      },
      "source": [
        "# Import Packages"
      ]
    },
    {
      "cell_type": "code",
      "metadata": {
        "id": "AdehYsGWu_uB",
        "colab_type": "code",
        "outputId": "c1a7be0a-6ea9-4a69-d70b-d91036e770c6",
        "colab": {
          "base_uri": "https://localhost:8080/"
        }
      },
      "source": [
        "import warnings\n",
        "warnings.filterwarnings(\"ignore\")\n",
        "\n",
        "import matplotlib.pyplot as plt\n",
        "import pandas as pd\n",
        "import numpy as np\n",
        "from time import time\n",
        "from sklearn.model_selection import LeaveOneOut,StratifiedKFold\n",
        "from sklearn.metrics.pairwise import cosine_similarity\n",
        "\n",
        "# Run it to obtain reproducible results across machines (from keras.io)\n",
        "from __future__ import print_function\n",
        "import tensorflow as tf\n",
        "import random as rn\n",
        "import os\n",
        "from tensorflow.keras import optimizers,backend as K\n",
        "os.environ['PYTHONHASHSEED'] = '0'\n",
        "np.random.seed(42)\n",
        "rn.seed(12345)\n",
        "session_conf = tf.ConfigProto(intra_op_parallelism_threads=1, inter_op_parallelism_threads=1)\n",
        "tf.set_random_seed(1234)\n",
        "sess = tf.Session(graph=tf.get_default_graph(), config=session_conf)\n",
        "K.set_session(sess)\n",
        "\n",
        "from tensorflow.keras.models import Sequential, Model\n",
        "from tensorflow.keras.layers import Input,Dense, Activation,Dropout, Embedding,Conv1D,GlobalMaxPooling1D,Concatenate,GaussianNoise,LSTM,BatchNormalization\n",
        "from tensorflow.keras.utils import plot_model"
      ],
      "execution_count": 0,
      "outputs": [
        {
          "output_type": "display_data",
          "data": {
            "text/html": [
              "<p style=\"color: red;\">\n",
              "The default version of TensorFlow in Colab will soon switch to TensorFlow 2.x.<br>\n",
              "We recommend you <a href=\"https://www.tensorflow.org/guide/migrate\" target=\"_blank\">upgrade</a> now \n",
              "or ensure your notebook will continue to use TensorFlow 1.x via the <code>%tensorflow_version 1.x</code> magic:\n",
              "<a href=\"https://colab.research.google.com/notebooks/tensorflow_version.ipynb\" target=\"_blank\">more info</a>.</p>\n"
            ],
            "text/plain": [
              "<IPython.core.display.HTML object>"
            ]
          },
          "metadata": {
            "tags": []
          }
        }
      ]
    },
    {
      "cell_type": "markdown",
      "metadata": {
        "id": "QK_REtl9xwFm",
        "colab_type": "text"
      },
      "source": [
        "# Import Data"
      ]
    },
    {
      "cell_type": "code",
      "metadata": {
        "id": "uJuvP80Axxmq",
        "colab_type": "code",
        "outputId": "4e007c9d-5398-4ce3-8a07-34f39bea8d46",
        "colab": {
          "base_uri": "https://localhost:8080/",
          "height": 118
        }
      },
      "source": [
        "link ='https://drive.google.com/open?id=1OTp9-w7uVdHJr2llOG3qZ2Rcv3W5jF50'\n",
        "fluff, id = link.split('=')\n",
        "print (id) # Verify that you have everything after '='\n",
        "downloaded = drive.CreateFile({'id':id}) \n",
        "downloaded.GetContentFile('pred_CNN_W2V.csv')  \n",
        "pred_CNN_W2V = pd.read_csv('pred_CNN_W2V.csv')\n",
        "pred_CNN_W2V=pred_CNN_W2V.drop(['Unnamed: 0'],1)\n",
        "\n",
        "link ='https://drive.google.com/open?id=1M0h0f5gl5DF6x-iboArT4CIdMnS3Wtpd'\n",
        "fluff, id = link.split('=')\n",
        "print (id) # Verify that you have everything after '='\n",
        "downloaded = drive.CreateFile({'id':id}) \n",
        "downloaded.GetContentFile('pred_lstm_GloVe.csv')  \n",
        "pred_lstm_GloVe = pd.read_csv('pred_lstm_GloVe.csv')\n",
        "pred_lstm_GloVe=pred_lstm_GloVe.drop(['Unnamed: 0'],1)\n",
        "\n",
        "link ='https://drive.google.com/open?id=1hUIsGgxjulofDekDz5kuDD89Xk7q52lV'\n",
        "fluff, id = link.split('=')\n",
        "print (id) # Verify that you have everything after '='\n",
        "downloaded = drive.CreateFile({'id':id}) \n",
        "downloaded.GetContentFile('pred_lstm_W2V.csv')  \n",
        "pred_lstm_W2V = pd.read_csv('pred_lstm_W2V.csv')\n",
        "pred_lstm_W2V=pred_lstm_W2V.drop(['Unnamed: 0'],1)\n",
        "\n",
        "link ='https://drive.google.com/open?id=1SnfLmRvEaeHFXbxJso-qv5ZnZcqeSL5Y'\n",
        "fluff, id = link.split('=')\n",
        "print (id) # Verify that you have everything after '='\n",
        "downloaded = drive.CreateFile({'id':id}) \n",
        "downloaded.GetContentFile('pred_MLP_Feature_Driven.csv')  \n",
        "pred_MLP_Feature_Driven = pd.read_csv('pred_MLP_Feature_Driven.csv')\n",
        "pred_MLP_Feature_Driven=pred_MLP_Feature_Driven.drop(['Unnamed: 0'],1)\n",
        "\n",
        "# link ='https://drive.google.com/open?id=1UaD6hNj9DajXHSBAYPsl2UGXp3g0Lu73'\n",
        "# fluff, id = link.split('=')\n",
        "# print (id) # Verify that you have everything after '='\n",
        "# downloaded = drive.CreateFile({'id':id}) \n",
        "# downloaded.GetContentFile('pred_MLP_GloVe_Sentence_Vector.csv')  \n",
        "# pred_MLP_GloVe_Sentence_Vector = pd.read_csv('pred_MLP_GloVe_Sentence_Vector.csv')\n",
        "# pred_MLP_GloVe_Sentence_Vector=pred_MLP_GloVe_Sentence_Vector.drop(['Unnamed: 0'],1)\n",
        "\n",
        "link ='https://drive.google.com/open?id=12f7_dOk1iMuZ8d_eseoSoblzfcZK2jMM'\n",
        "fluff, id = link.split('=')\n",
        "print (id) # Verify that you have everything after '='\n",
        "downloaded = drive.CreateFile({'id':id}) \n",
        "downloaded.GetContentFile('pred_MLP_W2V_Sentence_Vector.csv')  \n",
        "pred_MLP_W2V_Sentence_Vector = pd.read_csv('pred_MLP_W2V_Sentence_Vector.csv')\n",
        "pred_MLP_W2V_Sentence_Vector=pred_MLP_W2V_Sentence_Vector.drop(['Unnamed: 0'],1)\n",
        "\n",
        "link ='https://drive.google.com/open?id=1cDKGfay0oLkGQM0jz4nyk6c9CoE2YIpi'\n",
        "fluff, id = link.split('=')\n",
        "print (id) # Verify that you have everything after '='\n",
        "downloaded = drive.CreateFile({'id':id}) \n",
        "downloaded.GetContentFile('df_test.csv')  \n",
        "df_test = pd.read_csv('df_test.csv')\n",
        "df_test=df_test.drop(['Unnamed: 0','index'],1)"
      ],
      "execution_count": 0,
      "outputs": [
        {
          "output_type": "stream",
          "text": [
            "1OTp9-w7uVdHJr2llOG3qZ2Rcv3W5jF50\n",
            "1M0h0f5gl5DF6x-iboArT4CIdMnS3Wtpd\n",
            "1hUIsGgxjulofDekDz5kuDD89Xk7q52lV\n",
            "1SnfLmRvEaeHFXbxJso-qv5ZnZcqeSL5Y\n",
            "12f7_dOk1iMuZ8d_eseoSoblzfcZK2jMM\n",
            "1cDKGfay0oLkGQM0jz4nyk6c9CoE2YIpi\n"
          ],
          "name": "stdout"
        }
      ]
    },
    {
      "cell_type": "markdown",
      "metadata": {
        "id": "OxJzze5YSPdr",
        "colab_type": "text"
      },
      "source": [
        "# Data Concatenation"
      ]
    },
    {
      "cell_type": "code",
      "metadata": {
        "id": "nP5Pl-bQRPLM",
        "colab_type": "code",
        "colab": {}
      },
      "source": [
        "df=pred_MLP_Feature_Driven.copy()\n",
        "df['pred_MLP_W2V_Sentence_Vector']=pred_MLP_W2V_Sentence_Vector['pred_MLP_W2V_Sentence_Vector']\n",
        "# df['pred_MLP_GloVe_Sentence_Vector']=pred_MLP_GloVe_Sentence_Vector['pred_MLP_GloVe_Sentence_Vector']\n",
        "df['pred_lstm_W2V']=pred_lstm_W2V['pred_lstm_W2V']\n",
        "df['pred_lstm_GloVe']=pred_lstm_GloVe['pred_lstm_GloVe']\n",
        "df['pred_CNN_W2V']=pred_CNN_W2V['pred_CNN_W2V']\n",
        "df['source']=df_test['source']\n",
        "df['sentiment score']=df_test['sentiment score']"
      ],
      "execution_count": 0,
      "outputs": []
    },
    {
      "cell_type": "code",
      "metadata": {
        "id": "rFqcgreiSHT4",
        "colab_type": "code",
        "outputId": "04187e14-4607-46d6-fbcd-d31a03692948",
        "colab": {
          "base_uri": "https://localhost:8080/",
          "height": 194
        }
      },
      "source": [
        "df.head()"
      ],
      "execution_count": 0,
      "outputs": [
        {
          "output_type": "execute_result",
          "data": {
            "text/html": [
              "<div>\n",
              "<style scoped>\n",
              "    .dataframe tbody tr th:only-of-type {\n",
              "        vertical-align: middle;\n",
              "    }\n",
              "\n",
              "    .dataframe tbody tr th {\n",
              "        vertical-align: top;\n",
              "    }\n",
              "\n",
              "    .dataframe thead th {\n",
              "        text-align: right;\n",
              "    }\n",
              "</style>\n",
              "<table border=\"1\" class=\"dataframe\">\n",
              "  <thead>\n",
              "    <tr style=\"text-align: right;\">\n",
              "      <th></th>\n",
              "      <th>pred_MLP_Feature_Driven</th>\n",
              "      <th>pred_MLP_W2V_Sentence_Vector</th>\n",
              "      <th>pred_lstm_W2V</th>\n",
              "      <th>pred_lstm_GloVe</th>\n",
              "      <th>pred_CNN_W2V</th>\n",
              "      <th>source</th>\n",
              "      <th>sentiment score</th>\n",
              "    </tr>\n",
              "  </thead>\n",
              "  <tbody>\n",
              "    <tr>\n",
              "      <th>0</th>\n",
              "      <td>0.373551</td>\n",
              "      <td>0.243758</td>\n",
              "      <td>0.442542</td>\n",
              "      <td>0.419690</td>\n",
              "      <td>0.478512</td>\n",
              "      <td>stocktwits</td>\n",
              "      <td>0.425</td>\n",
              "    </tr>\n",
              "    <tr>\n",
              "      <th>1</th>\n",
              "      <td>-0.408889</td>\n",
              "      <td>-0.467696</td>\n",
              "      <td>-0.482740</td>\n",
              "      <td>-0.437111</td>\n",
              "      <td>-0.501353</td>\n",
              "      <td>twitter</td>\n",
              "      <td>-0.463</td>\n",
              "    </tr>\n",
              "    <tr>\n",
              "      <th>2</th>\n",
              "      <td>0.374590</td>\n",
              "      <td>0.452197</td>\n",
              "      <td>0.377545</td>\n",
              "      <td>0.180178</td>\n",
              "      <td>0.204984</td>\n",
              "      <td>stocktwits</td>\n",
              "      <td>0.738</td>\n",
              "    </tr>\n",
              "    <tr>\n",
              "      <th>3</th>\n",
              "      <td>-0.096241</td>\n",
              "      <td>0.210885</td>\n",
              "      <td>0.469682</td>\n",
              "      <td>0.276175</td>\n",
              "      <td>0.220091</td>\n",
              "      <td>stocktwits</td>\n",
              "      <td>-0.540</td>\n",
              "    </tr>\n",
              "    <tr>\n",
              "      <th>4</th>\n",
              "      <td>0.173559</td>\n",
              "      <td>-0.377242</td>\n",
              "      <td>0.150323</td>\n",
              "      <td>-0.187894</td>\n",
              "      <td>0.013896</td>\n",
              "      <td>stocktwits</td>\n",
              "      <td>0.228</td>\n",
              "    </tr>\n",
              "  </tbody>\n",
              "</table>\n",
              "</div>"
            ],
            "text/plain": [
              "   pred_MLP_Feature_Driven  ...  sentiment score\n",
              "0                 0.373551  ...            0.425\n",
              "1                -0.408889  ...           -0.463\n",
              "2                 0.374590  ...            0.738\n",
              "3                -0.096241  ...           -0.540\n",
              "4                 0.173559  ...            0.228\n",
              "\n",
              "[5 rows x 7 columns]"
            ]
          },
          "metadata": {
            "tags": []
          },
          "execution_count": 28
        }
      ]
    },
    {
      "cell_type": "markdown",
      "metadata": {
        "id": "lKL9QQqHZh62",
        "colab_type": "text"
      },
      "source": [
        "# MLP Ensemble"
      ]
    },
    {
      "cell_type": "markdown",
      "metadata": {
        "id": "51zUcc0dFSYk",
        "colab_type": "text"
      },
      "source": [
        "## Function Definition"
      ]
    },
    {
      "cell_type": "code",
      "metadata": {
        "id": "zokiQgrdSp3p",
        "colab_type": "code",
        "colab": {}
      },
      "source": [
        "def grid_model_ensemble(df,columns,hidden_nodes,dropout,activation_list,optimizer,epochs):\n",
        "  '''\n",
        "  Function for hyperparameter tuning\n",
        "  '''\n",
        "  kfold = StratifiedKFold(n_splits=30, shuffle=True, random_state=500)\n",
        "  stratify=df['source']\n",
        "  X=df[columns]\n",
        "  y=df['sentiment score']\n",
        "\n",
        "  for act in activation_list:\n",
        "    cvscores=[]\n",
        "    start=time()\n",
        "    for train_index, val_index in kfold.split(X,stratify):\n",
        "      X_train, X_val = X.loc[train_index,:], X.loc[val_index,:]\n",
        "      y_train, y_val = y[train_index], y[val_index]\n",
        "\n",
        "      #Define MLP Ensemble\n",
        "      model = Sequential()\n",
        "      if dropout==0:\n",
        "        model.add(Dense(hidden_nodes,input_shape=(X_train.shape[1],)))\n",
        "      else:\n",
        "        model.add(Dropout(dropout, input_shape=(X_train.shape[1],)))\n",
        "        model.add(Dense(hidden_nodes))\n",
        "      model.add(Activation(act))\n",
        "      model.add(Dense(1,activation='tanh'))\n",
        "      model.compile(loss='MSE',optimizer=optimizer,metrics=['cosine_proximity']) \n",
        "      history=model.fit(X_train, y_train,epochs=epochs,batch_size=16,validation_data=(X_val,y_val),verbose=False)\n",
        "      # plt.figure(figsize=(6,6))\n",
        "      # plt.plot(history.history['loss'])\n",
        "      # plt.plot(history.history['val_loss'])\n",
        "      # plt.title('model loss')\n",
        "      # plt.ylabel('loss')\n",
        "      # plt.xlabel('epoch')\n",
        "      # plt.ylim((0,0.15))\n",
        "      # plt.legend(['train', 'val'], loc='upper left')\n",
        "      # plt.show()\n",
        "      pred_val=model.predict(X_val)\n",
        "      pred_val=pred_val.reshape(1,-1)\n",
        "      cos=cosine_similarity(pred_val,y_val.values.reshape(1,-1))[0][0]\n",
        "      # print('Cosine Similarity: {}'.format(cos))\n",
        "      # print('Pred Result: {}, Actual Value: {}'.format(pred_val[0][0],y_val.values[0]))\n",
        "      cvscores.append(cos)\n",
        "    end=time()\n",
        "    print('')\n",
        "    print('Time Elapsed: {}'.format(end-start))\n",
        "    print('Epochs: {}'.format(epochs))\n",
        "    print('Hidden Nodes: {}'.format(hidden_nodes))\n",
        "    print('Dropout Rate: {}'.format(dropout))\n",
        "    print('Activation Function: {}'.format(act))\n",
        "    print('Optimizer: {}'.format(optimizer))\n",
        "    print('Stratified 30-Fold Cosine Similarity Avg Score: {}, Std Score: {}'.format(np.mean(cvscores),np.std(cvscores)))\n",
        "    # print('Leave One Out Cosine Similarity Score: {}'.format(cosine_similarity(pd.Series(preds).values.reshape(1,-1),y.values.reshape(1,-1))[0][0]))\n"
      ],
      "execution_count": 0,
      "outputs": []
    },
    {
      "cell_type": "markdown",
      "metadata": {
        "id": "BBcPdf4IFUm-",
        "colab_type": "text"
      },
      "source": [
        "## Hyperparameter Tuning"
      ]
    },
    {
      "cell_type": "code",
      "metadata": {
        "id": "0RIUuaHMUg1_",
        "colab_type": "code",
        "outputId": "7d25a686-60d1-4096-f1c2-0557c014b8e1",
        "colab": {
          "base_uri": "https://localhost:8080/",
          "height": 422
        }
      },
      "source": [
        "used_variables=['pred_MLP_Feature_Driven','pred_CNN_W2V','pred_lstm_W2V','pred_MLP_W2V_Sentence_Vector']\n",
        "adam=tf.keras.optimizers.Adam(learning_rate=0.0075)\n",
        "grid_model_ensemble(df,columns=used_variables,hidden_nodes=4,dropout=0.15,activation_list=['relu','tanh','elu'],optimizer=adam,epochs=25)"
      ],
      "execution_count": 0,
      "outputs": [
        {
          "output_type": "stream",
          "text": [
            "\n",
            "Time Elapsed: 196.59793400764465\n",
            "Epochs: 25\n",
            "Hidden Nodes: 4\n",
            "Dropout Rate: 0.15\n",
            "Activation Function: relu\n",
            "Optimizer: <tensorflow.python.keras.optimizer_v2.adam.Adam object at 0x7f9de0cff940>\n",
            "Stratified 30-Fold Cosine Similarity Avg Score: 0.8714564951769027, Std Score: 0.09655659032466836\n",
            "\n",
            "Time Elapsed: 264.3385579586029\n",
            "Epochs: 25\n",
            "Hidden Nodes: 4\n",
            "Dropout Rate: 0.15\n",
            "Activation Function: tanh\n",
            "Optimizer: <tensorflow.python.keras.optimizer_v2.adam.Adam object at 0x7f9de0cff940>\n",
            "Stratified 30-Fold Cosine Similarity Avg Score: 0.8691887832219654, Std Score: 0.10099400506506054\n",
            "\n",
            "Time Elapsed: 337.05430150032043\n",
            "Epochs: 25\n",
            "Hidden Nodes: 4\n",
            "Dropout Rate: 0.15\n",
            "Activation Function: elu\n",
            "Optimizer: <tensorflow.python.keras.optimizer_v2.adam.Adam object at 0x7f9de0cff940>\n",
            "Stratified 30-Fold Cosine Similarity Avg Score: 0.8739162765631422, Std Score: 0.09198505267429419\n"
          ],
          "name": "stdout"
        }
      ]
    },
    {
      "cell_type": "code",
      "metadata": {
        "id": "rg9kEykL7Y_h",
        "colab_type": "code",
        "outputId": "3dadd33e-3cb0-43f0-d80f-3bfd3e62cb61",
        "colab": {
          "base_uri": "https://localhost:8080/",
          "height": 152
        }
      },
      "source": [
        "used_variables=['pred_MLP_Feature_Driven','pred_CNN_W2V','pred_lstm_GloVe','pred_MLP_W2V_Sentence_Vector']\n",
        "adam=tf.keras.optimizers.Adam(learning_rate=0.0075)\n",
        "grid_model_ensemble(df,columns=used_variables,hidden_nodes=4,dropout=0.15,activation_list=['elu'],optimizer=adam,epochs=25)"
      ],
      "execution_count": 0,
      "outputs": [
        {
          "output_type": "stream",
          "text": [
            "\n",
            "Time Elapsed: 410.4883306026459\n",
            "Epochs: 25\n",
            "Hidden Nodes: 4\n",
            "Dropout Rate: 0.15\n",
            "Activation Function: elu\n",
            "Optimizer: <tensorflow.python.keras.optimizer_v2.adam.Adam object at 0x7f9de0cff898>\n",
            "Stratified 30-Fold Cosine Similarity Avg Score: 0.876555093520533, Std Score: 0.08711577892928793\n"
          ],
          "name": "stdout"
        }
      ]
    },
    {
      "cell_type": "markdown",
      "metadata": {
        "id": "ka6G0eRVETyO",
        "colab_type": "text"
      },
      "source": [
        "# Baseline (Avg) Ensemble"
      ]
    },
    {
      "cell_type": "code",
      "metadata": {
        "id": "UNCv8W2eEWHA",
        "colab_type": "code",
        "outputId": "3cfd94ed-be25-4657-d85c-11007a5a7257",
        "colab": {
          "base_uri": "https://localhost:8080/",
          "height": 51
        }
      },
      "source": [
        "#pred_MLP_Feature_Driven, pred_CNN_W2V, pred_MLP_W2V_Sentence_Vector, pred_lstm_W2V\n",
        "pred=(df['pred_MLP_Feature_Driven']+df['pred_CNN_W2V']+df['pred_MLP_W2V_Sentence_Vector']+df['pred_lstm_W2V'])/4\n",
        "print('Cosine Similarity: {}'.format(cosine_similarity(pred.values.reshape(1,-1),df['sentiment score'].values.reshape(1,-1))[0][0]))\n",
        "\n",
        "#pred_MLP_Feature_Driven, pred_CNN_W2V, pred_MLP_W2V_Sentence_Vector, pred_lstm_GloVe\n",
        "pred=(df['pred_MLP_Feature_Driven']+df['pred_CNN_W2V']+df['pred_MLP_W2V_Sentence_Vector']+df['pred_lstm_GloVe'])/4\n",
        "print('Cosine Similarity: {}'.format(cosine_similarity(pred.values.reshape(1,-1),df['sentiment score'].values.reshape(1,-1))[0][0]))"
      ],
      "execution_count": 0,
      "outputs": [
        {
          "output_type": "stream",
          "text": [
            "Cosine Similarity: 0.8010748235996722\n",
            "Cosine Similarity: 0.7972568537158483\n"
          ],
          "name": "stdout"
        }
      ]
    },
    {
      "cell_type": "markdown",
      "metadata": {
        "id": "10qa7UtlMMXK",
        "colab_type": "text"
      },
      "source": [
        "# Plot Model"
      ]
    },
    {
      "cell_type": "code",
      "metadata": {
        "id": "h1Icls-LMOpf",
        "colab_type": "code",
        "colab": {}
      },
      "source": [
        "def plot(model):\n",
        "  '''\n",
        "  Function for plot model\n",
        "  '''\n",
        "  K.clear_session()\n",
        "  if model.lower()=='ensemble':\n",
        "    model=Sequential()\n",
        "    model.add(Dropout(0.15, input_shape=(4,)))\n",
        "    model.add(Dense(4))\n",
        "    model.add(Activation('elu'))\n",
        "    model.add(Dense(1,activation='tanh'))\n",
        "    adam=tf.keras.optimizers.Adam(learning_rate=0.0075)\n",
        "    plot_model(model, show_shapes=True,to_file='model_MLP_Ensemble.png')\n",
        "    print('Done Plot Model Ensemble')\n",
        "\n",
        "  elif model.lower()=='cnn_w2v':\n",
        "\n",
        "    max_sequence_length=50\n",
        "    embedding_layer = Embedding(30, 300, input_length=max_sequence_length, trainable=False) #30 is just a random number, because this number won't show in the plot\n",
        "    sequence_input = Input(shape=(max_sequence_length,), dtype='int32')\n",
        "    submodels=[]\n",
        "    for kw in (1,2,3,4):    # kernel sizes\n",
        "      embedded_sequences = embedding_layer(sequence_input)\n",
        "      sub=GaussianNoise(0.01)(embedded_sequences)\n",
        "      sub_submodels=[]\n",
        "      for i in range(25):\n",
        "        subsub=BatchNormalization()(sub)\n",
        "        subsub=Conv1D(1,kw,padding='valid',activation='tanh',strides=1)(sub)\n",
        "        subsub=GlobalMaxPooling1D()(subsub)\n",
        "        subsubmodel=Model(sequence_input,subsub)\n",
        "        sub_submodels.append(subsubmodel)\n",
        "      sub_submodel_outputs=[subsubmodel.output for subsubmodel in sub_submodels]\n",
        "      sub_out=Concatenate(axis=1)(sub_submodel_outputs)\n",
        "      submodel=Model(sequence_input,sub_out)\n",
        "      submodels.append(submodel)\n",
        "    #Concatenate Multiple Filter Sizes\n",
        "    submodel_outputs = [submodel.output for submodel in submodels]\n",
        "    out = Concatenate(axis=1)(submodel_outputs)\n",
        "    out = Dropout(0.35)(out)\n",
        "    out = Dense(10)(out)\n",
        "    out=Activation('tanh')(out)\n",
        "    out = Dense(5)(out)\n",
        "    out=Activation('tanh')(out)\n",
        "    out = Dense(1)(out)\n",
        "    big_model = Model(sequence_input,out)\n",
        "    plot_model(big_model, show_shapes=True,to_file='model_CNN_W2V.png')\n",
        "    print('Done Plot Model CNN W2V')\n",
        "\n",
        "  elif model.lower()=='lstm_w2v':\n",
        "\n",
        "    max_sequence_length=50\n",
        "    embedding_layer = Embedding(30, 300, input_length=max_sequence_length, trainable=False) #30 is just a random number, because this number won't show in the plot\n",
        "    sequence_input = Input(shape=(max_sequence_length,), dtype='int32')\n",
        "    embedded_sequences = embedding_layer(sequence_input)\n",
        "    out=GaussianNoise(0.1)(embedded_sequences)\n",
        "    out=tf.keras.layers.CuDNNLSTM(100,return_sequences=True)(out)\n",
        "    out=tf.keras.layers.CuDNNLSTM(100)(out)\n",
        "    out = Dropout(0.2)(out)\n",
        "    out = Dense(50)(out)\n",
        "    out=Activation('relu')(out)\n",
        "    out = Dense(10)(out)\n",
        "    out=Activation('tanh')(out)\n",
        "    out = Dense(1)(out)\n",
        "    model = Model(sequence_input,out)\n",
        "    plot_model(model, show_shapes=True,to_file='model_LSTM_W2V.png')\n",
        "    print('Done Plot Model LSTM W2V')\n",
        "\n",
        "  elif model.lower()=='lstm_glove':\n",
        "\n",
        "    max_sequence_length=50\n",
        "    embedding_layer = Embedding(30, 200, input_length=max_sequence_length, trainable=False) #30 is just a random number, because this number won't show in the plot\n",
        "    sequence_input = Input(shape=(max_sequence_length,), dtype='int32')\n",
        "    embedded_sequences = embedding_layer(sequence_input)\n",
        "    out=GaussianNoise(0.1)(embedded_sequences)\n",
        "    out=tf.keras.layers.CuDNNLSTM(100,return_sequences=True)(out)\n",
        "    out=tf.keras.layers.CuDNNLSTM(100)(out)\n",
        "    out = Dropout(0.2)(out)\n",
        "    out = Dense(50)(out)\n",
        "    out=Activation('relu')(out)\n",
        "    out = Dense(10)(out)\n",
        "    out=Activation('tanh')(out)\n",
        "    out = Dense(1)(out)\n",
        "    model = Model(sequence_input,out)\n",
        "    plot_model(model, show_shapes=True,to_file='model_LSTM_GloVe.png')\n",
        "    print('Done Plot Model LSTM GloVe')\n",
        "  \n",
        "  elif model.lower()=='feature_driven':\n",
        "\n",
        "    model = Sequential()\n",
        "    model.add(Dropout(0.15, input_shape=(72,),seed=0))\n",
        "    model.add(Dense(50))\n",
        "    model.add(Activation('tanh'))\n",
        "    model.add(Dropout(0.2))\n",
        "    model.add(Dense(30))\n",
        "    model.add(Activation('tanh'))\n",
        "    model.add(Dropout(0.2))\n",
        "    model.add(Dense(15))\n",
        "    model.add(Activation('tanh'))\n",
        "    model.add(Dense(1))\n",
        "    plot_model(model, show_shapes=True,to_file='model_MLP_Feature_Driven.png')\n",
        "    print('Done Plot Model MLP Feature Driven')\n",
        "  \n",
        "  elif model.lower()=='mlp_w2v':\n",
        "\n",
        "    model = Sequential()\n",
        "    model.add(Dropout(0.2, input_shape=(300,),seed=0))\n",
        "    model.add(Dense(50))\n",
        "    model.add(Activation('relu'))\n",
        "    model.add(Dropout(0.2))\n",
        "    model.add(Dense(25))\n",
        "    model.add(Activation('relu'))\n",
        "    model.add(Dropout(0.2))\n",
        "    model.add(Dense(10))\n",
        "    model.add(Activation('tanh'))\n",
        "    model.add(Dense(1))\n",
        "    plot_model(model, show_shapes=True,to_file='model_MLP_W2V.png')\n",
        "    print('Done Plot Model MLP W2V')"
      ],
      "execution_count": 0,
      "outputs": []
    },
    {
      "cell_type": "code",
      "metadata": {
        "id": "n8B48joaOc9k",
        "colab_type": "code",
        "outputId": "b9705965-1e86-4cdd-8c40-d1d043190b5c",
        "colab": {
          "base_uri": "https://localhost:8080/",
          "height": 256
        }
      },
      "source": [
        "for model in ['feature_driven','cnn_w2v','lstm_GloVe','mlp_w2v','ensemble']:\n",
        "  plot(model=model)"
      ],
      "execution_count": 0,
      "outputs": [
        {
          "output_type": "stream",
          "text": [
            "WARNING:tensorflow:From /usr/local/lib/python3.6/dist-packages/tensorflow_core/python/ops/resource_variable_ops.py:1630: calling BaseResourceVariable.__init__ (from tensorflow.python.ops.resource_variable_ops) with constraint is deprecated and will be removed in a future version.\n",
            "Instructions for updating:\n",
            "If using Keras pass *_constraint arguments to layers.\n",
            "Done Plot Model MLP Feature Driven\n",
            "WARNING:tensorflow:From /usr/local/lib/python3.6/dist-packages/tensorflow_core/python/keras/initializers.py:119: calling RandomUniform.__init__ (from tensorflow.python.ops.init_ops) with dtype is deprecated and will be removed in a future version.\n",
            "Instructions for updating:\n",
            "Call initializer instance with the dtype argument instead of passing it to the constructor\n",
            "dot: graph is too large for cairo-renderer bitmaps. Scaling by 0.540041 to fit\n",
            "\n",
            "Done Plot Model CNN W2V\n",
            "Done Plot Model LSTM GloVe\n",
            "Done Plot Model MLP W2V\n",
            "Done Plot Model Ensemble\n"
          ],
          "name": "stdout"
        }
      ]
    }
  ]
}