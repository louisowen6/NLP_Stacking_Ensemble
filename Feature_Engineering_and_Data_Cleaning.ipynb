{
  "nbformat": 4,
  "nbformat_minor": 0,
  "metadata": {
    "colab": {
      "name": "Data Preparation.ipynb",
      "provenance": [],
      "collapsed_sections": [
        "JJy7rQfyWplJ",
        "wgKG6NOjWs0C",
        "RjN13WN28xgf",
        "e3zz_IYfetJQ",
        "dmMkpOYl87Tw",
        "KwgV8tKMTr9c",
        "yGLrxWPQxdxS"
      ],
      "include_colab_link": true
    },
    "kernelspec": {
      "name": "python3",
      "display_name": "Python 3"
    },
    "accelerator": "GPU"
  },
  "cells": [
    {
      "cell_type": "markdown",
      "metadata": {
        "id": "view-in-github",
        "colab_type": "text"
      },
      "source": [
        "<a href=\"https://colab.research.google.com/github/louisowen6/NLP_Stacking_Ensemble/blob/master/Data_Preparation.ipynb\" target=\"_parent\"><img src=\"https://colab.research.google.com/assets/colab-badge.svg\" alt=\"Open In Colab\"/></a>"
      ]
    },
    {
      "cell_type": "markdown",
      "metadata": {
        "id": "JJy7rQfyWplJ",
        "colab_type": "text"
      },
      "source": [
        "# Install Packages"
      ]
    },
    {
      "cell_type": "code",
      "metadata": {
        "id": "bHjxZlJ-WYnZ",
        "colab_type": "code",
        "outputId": "986530ad-fa1a-4049-ee3e-a954c8023678",
        "colab": {
          "base_uri": "https://localhost:8080/"
        }
      },
      "source": [
        "!pip install stanfordnlp\n",
        "!pip install nltk\n",
        "!pip install contractions\n",
        "!pip install textsearch"
      ],
      "execution_count": 0,
      "outputs": [
        {
          "output_type": "stream",
          "text": [
            "Collecting stanfordnlp\n",
            "\u001b[?25l  Downloading https://files.pythonhosted.org/packages/41/bf/5d2898febb6e993fcccd90484cba3c46353658511a41430012e901824e94/stanfordnlp-0.2.0-py3-none-any.whl (158kB)\n",
            "\r\u001b[K     |██                              | 10kB 19.6MB/s eta 0:00:01\r\u001b[K     |████▏                           | 20kB 1.7MB/s eta 0:00:01\r\u001b[K     |██████▏                         | 30kB 2.5MB/s eta 0:00:01\r\u001b[K     |████████▎                       | 40kB 1.7MB/s eta 0:00:01\r\u001b[K     |██████████▎                     | 51kB 2.1MB/s eta 0:00:01\r\u001b[K     |████████████▍                   | 61kB 2.5MB/s eta 0:00:01\r\u001b[K     |██████████████▌                 | 71kB 2.9MB/s eta 0:00:01\r\u001b[K     |████████████████▌               | 81kB 3.3MB/s eta 0:00:01\r\u001b[K     |██████████████████▋             | 92kB 3.7MB/s eta 0:00:01\r\u001b[K     |████████████████████▋           | 102kB 2.8MB/s eta 0:00:01\r\u001b[K     |██████████████████████▊         | 112kB 2.8MB/s eta 0:00:01\r\u001b[K     |████████████████████████▊       | 122kB 2.8MB/s eta 0:00:01\r\u001b[K     |██████████████████████████▉     | 133kB 2.8MB/s eta 0:00:01\r\u001b[K     |█████████████████████████████   | 143kB 2.8MB/s eta 0:00:01\r\u001b[K     |███████████████████████████████ | 153kB 2.8MB/s eta 0:00:01\r\u001b[K     |████████████████████████████████| 163kB 2.8MB/s \n",
            "\u001b[?25hRequirement already satisfied: protobuf in /usr/local/lib/python3.6/dist-packages (from stanfordnlp) (3.10.0)\n",
            "Requirement already satisfied: tqdm in /usr/local/lib/python3.6/dist-packages (from stanfordnlp) (4.28.1)\n",
            "Requirement already satisfied: numpy in /usr/local/lib/python3.6/dist-packages (from stanfordnlp) (1.17.3)\n",
            "Requirement already satisfied: torch>=1.0.0 in /usr/local/lib/python3.6/dist-packages (from stanfordnlp) (1.3.0+cu100)\n",
            "Requirement already satisfied: requests in /usr/local/lib/python3.6/dist-packages (from stanfordnlp) (2.21.0)\n",
            "Requirement already satisfied: six>=1.9 in /usr/local/lib/python3.6/dist-packages (from protobuf->stanfordnlp) (1.12.0)\n",
            "Requirement already satisfied: setuptools in /usr/local/lib/python3.6/dist-packages (from protobuf->stanfordnlp) (41.4.0)\n",
            "Requirement already satisfied: chardet<3.1.0,>=3.0.2 in /usr/local/lib/python3.6/dist-packages (from requests->stanfordnlp) (3.0.4)\n",
            "Requirement already satisfied: urllib3<1.25,>=1.21.1 in /usr/local/lib/python3.6/dist-packages (from requests->stanfordnlp) (1.24.3)\n",
            "Requirement already satisfied: certifi>=2017.4.17 in /usr/local/lib/python3.6/dist-packages (from requests->stanfordnlp) (2019.9.11)\n",
            "Requirement already satisfied: idna<2.9,>=2.5 in /usr/local/lib/python3.6/dist-packages (from requests->stanfordnlp) (2.8)\n",
            "Installing collected packages: stanfordnlp\n",
            "Successfully installed stanfordnlp-0.2.0\n",
            "Requirement already satisfied: nltk in /usr/local/lib/python3.6/dist-packages (3.2.5)\n",
            "Requirement already satisfied: six in /usr/local/lib/python3.6/dist-packages (from nltk) (1.12.0)\n",
            "Collecting contractions\n",
            "  Downloading https://files.pythonhosted.org/packages/5a/6a/7bde208d21b4f7db1b666739dca8826d8fd7af34a14fddfda9b597ab8a45/contractions-0.0.23-py2.py3-none-any.whl\n",
            "Collecting textsearch\n",
            "  Downloading https://files.pythonhosted.org/packages/42/a8/03407021f9555043de5492a2bd7a35c56cc03c2510092b5ec018cae1bbf1/textsearch-0.0.17-py2.py3-none-any.whl\n",
            "Collecting Unidecode\n",
            "\u001b[?25l  Downloading https://files.pythonhosted.org/packages/d0/42/d9edfed04228bacea2d824904cae367ee9efd05e6cce7ceaaedd0b0ad964/Unidecode-1.1.1-py2.py3-none-any.whl (238kB)\n",
            "\u001b[K     |████████████████████████████████| 245kB 3.9MB/s \n",
            "\u001b[?25hCollecting pyahocorasick\n",
            "\u001b[?25l  Downloading https://files.pythonhosted.org/packages/f4/9f/f0d8e8850e12829eea2e778f1c90e3c53a9a799b7f412082a5d21cd19ae1/pyahocorasick-1.4.0.tar.gz (312kB)\n",
            "\u001b[K     |████████████████████████████████| 317kB 49.4MB/s \n",
            "\u001b[?25hBuilding wheels for collected packages: pyahocorasick\n",
            "  Building wheel for pyahocorasick (setup.py) ... \u001b[?25l\u001b[?25hdone\n",
            "  Created wheel for pyahocorasick: filename=pyahocorasick-1.4.0-cp36-cp36m-linux_x86_64.whl size=81700 sha256=d49186c401835ad37261121208ce580a50b25944a8f61ca86c554ebb3e255671\n",
            "  Stored in directory: /root/.cache/pip/wheels/0a/90/61/87a55f5b459792fbb2b7ba6b31721b06ff5cf6bde541b40994\n",
            "Successfully built pyahocorasick\n",
            "Installing collected packages: Unidecode, pyahocorasick, textsearch, contractions\n",
            "Successfully installed Unidecode-1.1.1 contractions-0.0.23 pyahocorasick-1.4.0 textsearch-0.0.17\n",
            "Requirement already satisfied: textsearch in /usr/local/lib/python3.6/dist-packages (0.0.17)\n",
            "Requirement already satisfied: Unidecode in /usr/local/lib/python3.6/dist-packages (from textsearch) (1.1.1)\n",
            "Requirement already satisfied: pyahocorasick in /usr/local/lib/python3.6/dist-packages (from textsearch) (1.4.0)\n"
          ],
          "name": "stdout"
        }
      ]
    },
    {
      "cell_type": "markdown",
      "metadata": {
        "id": "wgKG6NOjWs0C",
        "colab_type": "text"
      },
      "source": [
        "# Import Packages"
      ]
    },
    {
      "cell_type": "code",
      "metadata": {
        "id": "yKqHyW0u9FEi",
        "colab_type": "code",
        "outputId": "973c61cc-3e5f-44b7-aa8d-27da96c7f3d2",
        "colab": {
          "base_uri": "https://localhost:8080/"
        }
      },
      "source": [
        "import warnings\n",
        "warnings.filterwarnings(\"ignore\", category=FutureWarning)\n",
        "\n",
        "import pandas as pd\n",
        "import re\n",
        "import json\n",
        "import math\n",
        "import string\n",
        "import numpy as np\n",
        "from bs4 import BeautifulSoup\n",
        "import gensim\n",
        "\n",
        "import contractions\n",
        "import inflect\n",
        "import string\n",
        "\n",
        "import stanfordnlp\n",
        "stanfordnlp.download('en') \n",
        "import nltk\n",
        "nltk.download('wordnet')\n",
        "nltk.download('punkt')\n",
        "nltk.download('averaged_perceptron_tagger')\n",
        "nltk.download('maxent_ne_chunker')\n",
        "nltk.download('words')\n",
        "\n",
        "from nltk import pos_tag\n",
        "from nltk.corpus import wordnet as wn\n",
        "from nltk.tokenize import wordpunct_tokenize,TweetTokenizer\n",
        "from nltk import word_tokenize, pos_tag, ne_chunk\n",
        "from nltk.stem.porter import *\n",
        "from nltk.stem import WordNetLemmatizer\n",
        "from nltk.tag.stanford import StanfordNERTagger\n",
        "\n",
        "from scipy import sparse as sp\n",
        "from sklearn.feature_extraction.text import TfidfVectorizer, CountVectorizer\n",
        "\n",
        "from textblob import TextBlob\n",
        "\n",
        "from sklearn.cluster import MiniBatchKMeans\n",
        "from sklearn.preprocessing import StandardScaler,MinMaxScaler\n",
        "\n",
        "import matplotlib.pyplot as plt\n",
        "import seaborn as sns\n",
        "import pylab \n",
        "import scipy.stats as stats\n",
        "from mpl_toolkits import mplot3d\n",
        "from sklearn.decomposition import PCA\n",
        "sns.set()"
      ],
      "execution_count": 0,
      "outputs": [
        {
          "output_type": "stream",
          "text": [
            "Using the default treebank \"en_ewt\" for language \"en\".\n",
            "Would you like to download the models for: en_ewt now? (Y/n)\n",
            "y\n",
            "\n",
            "Default download directory: /root/stanfordnlp_resources\n",
            "Hit enter to continue or type an alternate directory.\n",
            "\n",
            "\n",
            "Downloading models for: en_ewt\n",
            "Download location: /root/stanfordnlp_resources/en_ewt_models.zip\n"
          ],
          "name": "stdout"
        },
        {
          "output_type": "stream",
          "text": [
            "100%|██████████| 235M/235M [00:33<00:00, 6.88MB/s]\n"
          ],
          "name": "stderr"
        },
        {
          "output_type": "stream",
          "text": [
            "\n",
            "Download complete.  Models saved to: /root/stanfordnlp_resources/en_ewt_models.zip\n",
            "Extracting models file for: en_ewt\n",
            "Cleaning up...Done.\n",
            "[nltk_data] Downloading package wordnet to /root/nltk_data...\n",
            "[nltk_data]   Package wordnet is already up-to-date!\n",
            "[nltk_data] Downloading package punkt to /root/nltk_data...\n",
            "[nltk_data]   Package punkt is already up-to-date!\n",
            "[nltk_data] Downloading package averaged_perceptron_tagger to\n",
            "[nltk_data]     /root/nltk_data...\n",
            "[nltk_data]   Package averaged_perceptron_tagger is already up-to-\n",
            "[nltk_data]       date!\n",
            "[nltk_data] Downloading package maxent_ne_chunker to\n",
            "[nltk_data]     /root/nltk_data...\n",
            "[nltk_data]   Package maxent_ne_chunker is already up-to-date!\n",
            "[nltk_data] Downloading package words to /root/nltk_data...\n",
            "[nltk_data]   Package words is already up-to-date!\n"
          ],
          "name": "stdout"
        }
      ]
    },
    {
      "cell_type": "markdown",
      "metadata": {
        "id": "RjN13WN28xgf",
        "colab_type": "text"
      },
      "source": [
        "# Mount the Google Drive"
      ]
    },
    {
      "cell_type": "code",
      "metadata": {
        "id": "xdE0_In48jdh",
        "colab_type": "code",
        "outputId": "24fa413f-9dc9-4afb-b93d-7b416f31610a",
        "colab": {
          "base_uri": "https://localhost:8080/",
          "height": 121
        }
      },
      "source": [
        "from google.colab import drive\n",
        "drive.mount('/content/gdrive')"
      ],
      "execution_count": 0,
      "outputs": [
        {
          "output_type": "stream",
          "text": [
            "Go to this URL in a browser: https://accounts.google.com/o/oauth2/auth?client_id=947318989803-6bn6qk8qdgf4n4g3pfee6491hc0brc4i.apps.googleusercontent.com&redirect_uri=urn%3Aietf%3Awg%3Aoauth%3A2.0%3Aoob&scope=email%20https%3A%2F%2Fwww.googleapis.com%2Fauth%2Fdocs.test%20https%3A%2F%2Fwww.googleapis.com%2Fauth%2Fdrive%20https%3A%2F%2Fwww.googleapis.com%2Fauth%2Fdrive.photos.readonly%20https%3A%2F%2Fwww.googleapis.com%2Fauth%2Fpeopleapi.readonly&response_type=code\n",
            "\n",
            "Enter your authorization code:\n",
            "··········\n",
            "Mounted at /content/gdrive\n"
          ],
          "name": "stdout"
        }
      ]
    },
    {
      "cell_type": "code",
      "metadata": {
        "id": "0oPdep9484eA",
        "colab_type": "code",
        "colab": {}
      },
      "source": [
        "# Code to read csv file into Colaboratory:\n",
        "!pip install -U -q PyDrive\n",
        "from pydrive.auth import GoogleAuth\n",
        "from pydrive.drive import GoogleDrive\n",
        "from google.colab import auth\n",
        "from oauth2client.client import GoogleCredentials\n",
        "# Authenticate and create the PyDrive client.\n",
        "auth.authenticate_user()\n",
        "gauth = GoogleAuth()\n",
        "gauth.credentials = GoogleCredentials.get_application_default()\n",
        "drive = GoogleDrive(gauth)"
      ],
      "execution_count": 0,
      "outputs": []
    },
    {
      "cell_type": "markdown",
      "metadata": {
        "id": "e3zz_IYfetJQ",
        "colab_type": "text"
      },
      "source": [
        "# Import Supporting Files"
      ]
    },
    {
      "cell_type": "code",
      "metadata": {
        "id": "jbcT3wyQ7Lmg",
        "colab_type": "code",
        "outputId": "ef82f374-3638-4728-da8a-98ed22049f29",
        "colab": {
          "base_uri": "https://localhost:8080/"
        }
      },
      "source": [
        "#Stanford Ner\n",
        "link ='https://drive.google.com/open?id=1nqXmQjgP8s_j0LB9bAkU3_NfS7LXr_j3'\n",
        "fluff, id = link.split('=')\n",
        "print (id) # Verify that you have everything after '='\n",
        "downloaded = drive.CreateFile({'id':id}) \n",
        "downloaded.GetContentFile('ner-model-english.ser.gz')  \n",
        "\n",
        "link ='https://drive.google.com/open?id=13eDT8egtCeZ_eER6FbyX-BNtsMp8dVZq'\n",
        "fluff, id = link.split('=')\n",
        "print (id) # Verify that you have everything after '='\n",
        "downloaded = drive.CreateFile({'id':id}) \n",
        "downloaded.GetContentFile('stanford-ner.jar')  \n",
        "\n",
        "\n",
        "#Abbreviation & Slang Dict\n",
        "link ='https://drive.google.com/open?id=1ptzEljjFTQNF3FRR9wO9G7D0I9DWwjQR'\n",
        "fluff, id = link.split('=')\n",
        "print (id) # Verify that you have everything after '='\n",
        "downloaded = drive.CreateFile({'id':id}) \n",
        "downloaded.GetContentFile('abbreviation_dict.txt')  \n",
        "abb_df = pd.read_table('abbreviation_dict.txt', sep='\\s+', names=('Abbreviation', 'Normal'))\n",
        "abb=pd.Series(abb_df['Normal'])\n",
        "abb.index=abb_df['Abbreviation']\n",
        "abb_dict=dict(abb)\n",
        "\n",
        "\n",
        "#AFINN Lexicon\n",
        "link ='https://drive.google.com/open?id=1EBMSCSqU9CjipfA5JqAIWBIt3wavtEXx'\n",
        "fluff, id = link.split('=')\n",
        "print (id) # Verify that you have everything after '='\n",
        "downloaded = drive.CreateFile({'id':id}) \n",
        "downloaded.GetContentFile('AFINN-111.txt')  \n",
        "AFINN_df = pd.read_table('AFINN-111.txt', names=('Word', 'Sentiment'))\n",
        "AFINN=pd.Series(AFINN_df['Sentiment'])\n",
        "#Rescaling in [-1,1]\n",
        "AFINN=((AFINN-AFINN.min())/(AFINN.max()-AFINN.min()))*(1-(-1))+(-1)\n",
        "AFINN.index=AFINN_df['Word']\n",
        "AFINN_dict=dict(AFINN)\n",
        "\n",
        "\n",
        "#BING-LIU Lexicon\n",
        "link ='https://drive.google.com/open?id=1j0FeouVrdlVvlE6DX7_j3MAnZn0Sxtf_'\n",
        "fluff, id = link.split('=')\n",
        "print (id) # Verify that you have everything after '='\n",
        "downloaded = drive.CreateFile({'id':id}) \n",
        "downloaded.GetContentFile('POS_words.txt')  \n",
        "pos = pd.read_table('POS_words.txt',names='P')\n",
        "\n",
        "link ='https://drive.google.com/open?id=1AT9H4qfOt_E9_G0YzcmPVBXNaZgXs5tz'\n",
        "fluff, id = link.split('=')\n",
        "print (id) # Verify that you have everything after '='\n",
        "downloaded = drive.CreateFile({'id':id}) \n",
        "downloaded.GetContentFile('NEG_words.txt')  \n",
        "neg=pd.read_table('NEG_words.txt',names='N',encoding='latin-1')\n",
        "\n",
        "BingLiu_dict={'pos':pos['P'].tolist(),'neg':neg['N'].tolist()}\n",
        "\n",
        "\n",
        "#General Inquirer Lexicon\n",
        "link ='https://drive.google.com/open?id=16DrsetxPi8oPB5q47Y7Xd8NgyGvh0Q1a'\n",
        "fluff, id = link.split('=')\n",
        "print (id) # Verify that you have everything after '='\n",
        "downloaded = drive.CreateFile({'id':id}) \n",
        "downloaded.GetContentFile('General_Inquirer.csv')  \n",
        "General_Inquirer_df=pd.read_csv('General_Inquirer.csv',index_col='Entry')\n",
        "General_Inquirer_df=General_Inquirer_df[['Positiv','Negativ']]\n",
        "\n",
        "General_Inquirer_dict={'pos':General_Inquirer_df[pd.isnull(General_Inquirer_df['Positiv'])==False]['Positiv'].index.tolist(),\n",
        "                      'neg':General_Inquirer_df[pd.isnull(General_Inquirer_df['Negativ'])==False]['Positiv'].index.tolist()}\n",
        "\n",
        "\n",
        "#NRC Hashtag Sentiment Lexicon\n",
        "link ='https://drive.google.com/open?id=1-Q1gm2SsbKgo-80_FXxCh8SNRK5eyPpl'\n",
        "fluff, id = link.split('=')\n",
        "print (id) # Verify that you have everything after '='\n",
        "downloaded = drive.CreateFile({'id':id}) \n",
        "downloaded.GetContentFile('HS-unigrams.txt')  \n",
        "hs=pd.read_table('HS-unigrams.txt',names=('Hashtag','PMI(w, pos) -PMI(w, neg)','n_pos','n_neg'),encoding='latin-1')\n",
        "hs=hs[pd.isnull(hs.Hashtag)==False]\n",
        "#Rescaling in [-1,1]\n",
        "hs['PMI(w, pos) -PMI(w, neg)']=((hs['PMI(w, pos) -PMI(w, neg)']-hs['PMI(w, pos) -PMI(w, neg)'].min())/(hs['PMI(w, pos) -PMI(w, neg)'].max()-hs['PMI(w, pos) -PMI(w, neg)'].min()))*(1-(-1))+(-1)\n",
        "nrc=hs['PMI(w, pos) -PMI(w, neg)']\n",
        "nrc.index=hs['Hashtag']\n",
        "\n",
        "NRC_hashtag_dict=dict(nrc)\n",
        "\n",
        "\n",
        "# #MPQA Wordnet Lexicon\n",
        "# link ='https://drive.google.com/open?id=1azF5UGWVHXjKC2wkOxIHYK2I92AaEztj'\n",
        "# fluff, id = link.split('=')\n",
        "# print (id) # Verify that you have everything after '='\n",
        "# downloaded = drive.CreateFile({'id':id}) \n",
        "# downloaded.GetContentFile('gold_standard.txt')  \n",
        "# MPQA=pd.read_table('gold_standard.txt',names=('synset_offset','type','synset','gloss'),encoding='latin-1')\n",
        "\n",
        "\n",
        "#SentiWordNet\n",
        "link ='https://drive.google.com/open?id=1S2wLuyU03n_lHK0iCzWAXO7IT9hrzFpf'\n",
        "fluff, id = link.split('=')\n",
        "print (id) # Verify that you have everything after '='\n",
        "downloaded = drive.CreateFile({'id':id}) \n",
        "downloaded.GetContentFile('senti_wordnet.txt')  \n",
        "sentiwordnet=pd.read_table('senti_wordnet.txt',names=('POS','ID','PosScore','NegScore','SynsetTerms','Gloss'),encoding='latin-1')\n",
        "sentiwordnet=sentiwordnet[pd.isnull(sentiwordnet.POS)==False]\n",
        "sentiwordnet['score']=sentiwordnet['PosScore']-sentiwordnet['NegScore']\n",
        "\n",
        "#Google Word2Vec Pretrained Model\n",
        "link ='https://drive.google.com/open?id=16A169DxZ-h9qU0i6rXCoSh_djkBWnd9V'\n",
        "fluff, id = link.split('=')\n",
        "print (id) # Verify that you have everything after '='\n",
        "downloaded = drive.CreateFile({'id':id}) \n",
        "downloaded.GetContentFile('GoogleNews-vectors-negative300.bin')   \n",
        "model_w2v = gensim.models.KeyedVectors.load_word2vec_format('GoogleNews-vectors-negative300.bin', binary=True) \n",
        "\n",
        "#GloVe Pretrained Model\n",
        "link ='https://drive.google.com/open?id=1p1IN9O_fpSQzPTFB5Y8CCOMXPIPU1WGV'\n",
        "fluff, id = link.split('=')\n",
        "print (id) # Verify that you have everything after '='\n",
        "downloaded = drive.CreateFile({'id':id}) \n",
        "downloaded.GetContentFile('glove.twitter.27B.200d.txt')   \n",
        "def loadGloveModel(gloveFilePath):\n",
        "    print(\"Loading Glove Model\")\n",
        "    f = open(gloveFilePath,'r',encoding='utf-8')\n",
        "    model = {}\n",
        "    for line in f:\n",
        "        splitLine = line.split()\n",
        "        word = splitLine[0]\n",
        "        embedding = np.array([float(val) for val in splitLine[1:]])\n",
        "        model[word] = embedding\n",
        "    print(\"Done.\",len(model),\" words loaded!\")\n",
        "    return model\n",
        "model_GloVe=loadGloveModel('glove.twitter.27B.200d.txt')"
      ],
      "execution_count": 0,
      "outputs": [
        {
          "output_type": "stream",
          "text": [
            "1nqXmQjgP8s_j0LB9bAkU3_NfS7LXr_j3\n",
            "13eDT8egtCeZ_eER6FbyX-BNtsMp8dVZq\n",
            "1ptzEljjFTQNF3FRR9wO9G7D0I9DWwjQR\n",
            "1EBMSCSqU9CjipfA5JqAIWBIt3wavtEXx\n",
            "1j0FeouVrdlVvlE6DX7_j3MAnZn0Sxtf_\n",
            "1AT9H4qfOt_E9_G0YzcmPVBXNaZgXs5tz\n",
            "16DrsetxPi8oPB5q47Y7Xd8NgyGvh0Q1a\n"
          ],
          "name": "stdout"
        },
        {
          "output_type": "stream",
          "text": [
            "/usr/local/lib/python3.6/dist-packages/IPython/core/interactiveshell.py:2718: DtypeWarning: Columns (63,108,109,110,176) have mixed types. Specify dtype option on import or set low_memory=False.\n",
            "  interactivity=interactivity, compiler=compiler, result=result)\n"
          ],
          "name": "stderr"
        },
        {
          "output_type": "stream",
          "text": [
            "1-Q1gm2SsbKgo-80_FXxCh8SNRK5eyPpl\n",
            "1S2wLuyU03n_lHK0iCzWAXO7IT9hrzFpf\n",
            "16A169DxZ-h9qU0i6rXCoSh_djkBWnd9V\n"
          ],
          "name": "stdout"
        },
        {
          "output_type": "stream",
          "text": [
            "/usr/local/lib/python3.6/dist-packages/smart_open/smart_open_lib.py:398: UserWarning: This function is deprecated, use smart_open.open instead. See the migration notes for details: https://github.com/RaRe-Technologies/smart_open/blob/master/README.rst#migrating-to-the-new-open-function\n",
            "  'See the migration notes for details: %s' % _MIGRATION_NOTES_URL\n"
          ],
          "name": "stderr"
        },
        {
          "output_type": "stream",
          "text": [
            "1p1IN9O_fpSQzPTFB5Y8CCOMXPIPU1WGV\n",
            "Loading Glove Model\n",
            "Done. 1193514  words loaded!\n"
          ],
          "name": "stdout"
        }
      ]
    },
    {
      "cell_type": "markdown",
      "metadata": {
        "id": "dmMkpOYl87Tw",
        "colab_type": "text"
      },
      "source": [
        "# Importing Data"
      ]
    },
    {
      "cell_type": "code",
      "metadata": {
        "id": "gPPx6SVchLeJ",
        "colab_type": "code",
        "outputId": "4507a869-7fd4-4109-fcdf-681b21c81d2a",
        "colab": {
          "base_uri": "https://localhost:8080/"
        }
      },
      "source": [
        "link ='https://drive.google.com/open?id=1szYV-zxOuHUWf2RlIKuvZD3qLccRmKO-'\n",
        "fluff, id = link.split('=')\n",
        "print (id) # Verify that you have everything after '='\n",
        "downloaded = drive.CreateFile({'id':id}) \n",
        "downloaded.GetContentFile('Microblog_Train_twitter_full.json')  \n",
        "with open('Microblog_Train_twitter_full.json') as train_file:\n",
        "    dict_train = json.load(train_file)\n",
        "microblog_train_twitter_full = pd.DataFrame.from_dict(dict_train)"
      ],
      "execution_count": 0,
      "outputs": [
        {
          "output_type": "stream",
          "text": [
            "1szYV-zxOuHUWf2RlIKuvZD3qLccRmKO-\n"
          ],
          "name": "stdout"
        }
      ]
    },
    {
      "cell_type": "code",
      "metadata": {
        "id": "bcyQ3NT_WJI3",
        "colab_type": "code",
        "outputId": "294c149d-3416-4531-c880-b69c2fd82049",
        "colab": {
          "base_uri": "https://localhost:8080/"
        }
      },
      "source": [
        "link ='https://drive.google.com/open?id=1hsmjwP7FiDAkq4hgWbjVTUJ9fY1yKEyc'\n",
        "fluff, id = link.split('=')\n",
        "print (id) # Verify that you have everything after '='\n",
        "downloaded = drive.CreateFile({'id':id}) \n",
        "downloaded.GetContentFile('Microblog_Train_stocktwits_full.json')  \n",
        "with open('Microblog_Train_stocktwits_full.json') as train_file:\n",
        "    dict_train = json.load(train_file)\n",
        "microblog_train_stocktwits_full = pd.DataFrame.from_dict(dict_train)\n"
      ],
      "execution_count": 0,
      "outputs": [
        {
          "output_type": "stream",
          "text": [
            "1hsmjwP7FiDAkq4hgWbjVTUJ9fY1yKEyc\n"
          ],
          "name": "stdout"
        }
      ]
    },
    {
      "cell_type": "markdown",
      "metadata": {
        "id": "7L1e58Lx_urw",
        "colab_type": "text"
      },
      "source": [
        "# Rebuild Data"
      ]
    },
    {
      "cell_type": "code",
      "metadata": {
        "id": "1fwM8mb9heEf",
        "colab_type": "code",
        "colab": {}
      },
      "source": [
        "twitter_df=microblog_train_twitter_full[['cashtag','sentiment score','spans','text','created_at']].copy()\n",
        "twitter_df['source']=['twitter' for x in range(len(twitter_df))] #add source column\n",
        "twitter_df['created_at']=pd.to_datetime(twitter_df['created_at']).apply(lambda x: '[0am,9am)' \n",
        "                                                                        if (x.hour>=0 and x.hour<9) else '[9am,3pm)' \n",
        "                                                                        if (x.hour>=9 and x.hour<15) else '[3pm,24pm)')  #encoding time created"
      ],
      "execution_count": 0,
      "outputs": []
    },
    {
      "cell_type": "code",
      "metadata": {
        "id": "LHKt325Ah2kr",
        "colab_type": "code",
        "colab": {}
      },
      "source": [
        "stocktwits_df=microblog_train_stocktwits_full[['cashtag','sentiment score','spans']].copy()\n",
        "\n",
        "stocktwits_message= microblog_train_stocktwits_full['message'].apply(pd.Series) #message data\n",
        "stocktwits_user=stocktwits_message['user'].apply(pd.Series) #user data\n",
        "\n",
        "stocktwits_df['text']=stocktwits_message['body']\n",
        "stocktwits_df['created_at']=stocktwits_message['created_at']\n",
        "stocktwits_df['source']=microblog_train_stocktwits_full['source']\n",
        "stocktwits_df['official_account']=stocktwits_user['official']\n",
        "stocktwits_df['sentiment']=stocktwits_message['entities'].apply(pd.Series)['sentiment'].apply(lambda x : x['basic'] if (type(x) is dict) else np.nan)\n",
        "stocktwits_df['liked_by_self']=stocktwits_message['liked_by_self']\n",
        "stocktwits_df['conversation_parent']=stocktwits_message['conversation'].apply(lambda x : x['parent'] if (type(x) is dict) else np.nan)\n",
        "stocktwits_df['conversation_replies']=stocktwits_message['conversation'].apply(lambda x : x['replies'] if (type(x) is dict and not math.isnan(x['replies'])) else 0)\n",
        "stocktwits_df['conversation_replies']=stocktwits_df['conversation_replies'].apply(lambda x: (x-min(stocktwits_df['conversation_replies']))/(max(stocktwits_df['conversation_replies'])-min(stocktwits_df['conversation_replies']))) #min-max scaling\n",
        "stocktwits_df['total_likes']=stocktwits_message['likes'].apply(lambda x : x['total'] if (type(x) is dict and not math.isnan(x['total'])) else 0)\n",
        "stocktwits_df['total_likes']=stocktwits_df['total_likes'].apply(lambda x: (x-min(stocktwits_df['total_likes']))/(max(stocktwits_df['total_likes'])-min(stocktwits_df['total_likes']))) #min-max scaling\n",
        "stocktwits_df['created_at']=pd.to_datetime(stocktwits_df['created_at']).apply(lambda x: '[0am,9am)' \n",
        "                                                                              if (x.hour>=0 and x.hour<9) else '[9am,3pm)' \n",
        "                                                                              if (x.hour>=9 and x.hour<15) else '[3pm,24pm)') #encoding time created"
      ],
      "execution_count": 0,
      "outputs": []
    },
    {
      "cell_type": "code",
      "metadata": {
        "id": "J4Uknw7DrUxM",
        "colab_type": "code",
        "outputId": "970b994a-7022-4b2e-c4de-b564d81aa0f8",
        "colab": {
          "base_uri": "https://localhost:8080/",
          "height": 202
        }
      },
      "source": [
        "twitter_df.info()"
      ],
      "execution_count": 0,
      "outputs": [
        {
          "output_type": "stream",
          "text": [
            "<class 'pandas.core.frame.DataFrame'>\n",
            "RangeIndex: 535 entries, 0 to 534\n",
            "Data columns (total 6 columns):\n",
            "cashtag            535 non-null object\n",
            "sentiment score    535 non-null object\n",
            "spans              535 non-null object\n",
            "text               535 non-null object\n",
            "created_at         535 non-null object\n",
            "source             535 non-null object\n",
            "dtypes: object(6)\n",
            "memory usage: 25.2+ KB\n"
          ],
          "name": "stdout"
        }
      ]
    },
    {
      "cell_type": "code",
      "metadata": {
        "id": "BuEzxwrmjxXZ",
        "colab_type": "code",
        "outputId": "16f4697c-2a53-45aa-84ec-3b7b62a94d50",
        "colab": {
          "base_uri": "https://localhost:8080/",
          "height": 302
        }
      },
      "source": [
        "stocktwits_df.info()"
      ],
      "execution_count": 0,
      "outputs": [
        {
          "output_type": "stream",
          "text": [
            "<class 'pandas.core.frame.DataFrame'>\n",
            "RangeIndex: 934 entries, 0 to 933\n",
            "Data columns (total 12 columns):\n",
            "cashtag                 934 non-null object\n",
            "sentiment score         934 non-null object\n",
            "spans                   934 non-null object\n",
            "text                    919 non-null object\n",
            "created_at              934 non-null object\n",
            "source                  934 non-null object\n",
            "official_account        919 non-null object\n",
            "sentiment               162 non-null object\n",
            "liked_by_self           919 non-null object\n",
            "conversation_parent     163 non-null object\n",
            "conversation_replies    934 non-null float64\n",
            "total_likes             934 non-null float64\n",
            "dtypes: float64(2), object(10)\n",
            "memory usage: 87.6+ KB\n"
          ],
          "name": "stdout"
        }
      ]
    },
    {
      "cell_type": "code",
      "metadata": {
        "id": "Q7CwdccGO2mC",
        "colab_type": "code",
        "colab": {}
      },
      "source": [
        "#convert to numeric\n",
        "twitter_df['sentiment score']=pd.to_numeric(twitter_df['sentiment score'])\n",
        "stocktwits_df['sentiment score']=pd.to_numeric(stocktwits_df['sentiment score'])\n",
        "\n",
        "#One hot encoding\n",
        "stocktwits_df['official_account']=stocktwits_df['official_account'].apply(lambda x: 1 if x==True else 0 if x==False else x)\n",
        "stocktwits_df['liked_by_self']=stocktwits_df['liked_by_self'].apply(lambda x: 1 if x==True else 0 if x==False else x)\n",
        "stocktwits_df['conversation_parent']=stocktwits_df['conversation_parent'].apply(lambda x: 1 if x==True else 0 if x==False else x)"
      ],
      "execution_count": 0,
      "outputs": []
    },
    {
      "cell_type": "code",
      "metadata": {
        "id": "79w573W2Yx0A",
        "colab_type": "code",
        "colab": {}
      },
      "source": [
        "#Concatenate both dataframe\n",
        "concat_df=pd.concat([stocktwits_df,twitter_df])\n",
        "concat_df=concat_df[pd.isnull(concat_df.text)==False]\n",
        "concat_df=concat_df.reset_index()"
      ],
      "execution_count": 0,
      "outputs": []
    },
    {
      "cell_type": "markdown",
      "metadata": {
        "id": "bK-3V5tF4BSr",
        "colab_type": "text"
      },
      "source": [
        "# Data Cleaning"
      ]
    },
    {
      "cell_type": "code",
      "metadata": {
        "id": "sXWDjnT-YIwG",
        "colab_type": "code",
        "colab": {}
      },
      "source": [
        "#Inspired by: \n",
        "# https://www.dotnetperls.com/punctuation-python\n",
        "# https://github.com/tthustla/twitter_sentiment_analysis_part1/blob/master/Capstone_part2.ipynb\n",
        "# https://github.com/Deffro/text-preprocessing-techniques/blob/master/techniques.py\n",
        "\n",
        "#Word ordinal encoding\n",
        "p = inflect.engine()\n",
        "word_to_number_mapping = {}\n",
        "for i in range(1, 2000):\n",
        "  word_form = p.number_to_words(i)  # 1 -> 'one'\n",
        "  ordinal_word = p.ordinal(word_form)  # 'one' -> 'first'\n",
        "  ordinal_number = p.ordinal(i)  # 1 -> '1st'\n",
        "  word_to_number_mapping[ordinal_word] = ordinal_number  # 'first': '1st'\n",
        "  \n",
        "  \n",
        "def elongated_word(word):\n",
        "    \"\"\"\n",
        "     Replaces an elongated word with its basic form, unless the word exists in the lexicon \n",
        "     \"\"\"\n",
        "    repeat_regexp = re.compile(r'(\\w*)(\\w)\\2(\\w*)')\n",
        "    repl = r'\\1\\2\\3'\n",
        "    if (len(word)>2 and word[0] != '$'):#if not Stock Market symbol\n",
        "      if wn.synsets(word):\n",
        "          return word\n",
        "      repl_word = repeat_regexp.sub(repl, word)\n",
        "      if repl_word != word:      \n",
        "          return elongated_word(repl_word)\n",
        "      else:       \n",
        "          return repl_word\n",
        "    else:\n",
        "      return word\n",
        "    \n",
        "def isfloat(value):\n",
        "  ''' \n",
        "  Check if value is float or not\n",
        "  '''\n",
        "  try:\n",
        "    float(value)\n",
        "    return True\n",
        "  except ValueError:\n",
        "    return False\n",
        "\n",
        "def tokenize(sentence):\n",
        "  '''\n",
        "  tokenize input sentence into token\n",
        "  '''\n",
        "  token_list=nltk.regexp_tokenize(sentence, pattern=r\"\\s|[\\.,;]\\D\", gaps=True)\n",
        "  return(token_list)\n",
        "\n",
        "def sentences_cleaner(sentence):\n",
        "  '''\n",
        "  clean input sentence  \n",
        "  '''\n",
        "    try:\n",
        "      mention_pat= r'@[A-Za-z0-9_]+'\n",
        "      mention_2_pat=r'@[A-Za-z0-9_]+:\\s'\n",
        "      retweet_pat=r'^RT +'\n",
        "      dollars_pat=r'\\$ +'\n",
        "      http_pat = r'https?://[^ ]+'\n",
        "      www_pat = r'www.[^ ]+'\n",
        "      apos_pat=r'\"+|\"$|\"+\"$'\n",
        "      \n",
        "      soup = BeautifulSoup(sentence, 'lxml')\n",
        "      souped = soup.get_text()\n",
        "    \n",
        "      #HTML decoding remove BOM\n",
        "      try:\n",
        "          bom_removed = souped.decode(\"utf-8-sig\").replace(u\"\\ufffd\", \"?\")\n",
        "      except:\n",
        "          bom_removed = souped\n",
        "          \n",
        "      #Delete mention\n",
        "      stripped = re.sub(mention_2_pat,\"\", bom_removed)\n",
        "      stripped = re.sub(mention_pat,\"\", stripped)\n",
        "      \n",
        "      #Delete retweet\n",
        "      stripped=re.sub(retweet_pat,\"\",stripped)\n",
        "      \n",
        "      #Transform any url into '_url'\n",
        "      stripped = re.sub(http_pat, '_url', stripped)\n",
        "      stripped = re.sub(www_pat, '_url', stripped)\n",
        "    \n",
        "      #Transfrom abbreviation & slang word  into normal words based on abb_dict corpus\n",
        "      abbreviation_handled=' '.join(pd.Series(stripped.split()).apply(lambda x: abb_dict[x] if x in abb_dict.keys() else x).to_list())\n",
        "   \n",
        "      #Transform contracted words into normal words\n",
        "      contraction_handled =contractions.fix(abbreviation_handled)\n",
        "      \n",
        "      #Join the stock symbol\n",
        "      dollars_handled=re.sub(dollars_pat,'$',contraction_handled)\n",
        "      \n",
        "      #Transform elongated words into normal words\n",
        "      elongated_handled=' '.join(pd.Series(dollars_handled.split()).apply(lambda x: elongated_word(x[:-1])+x[-1] if (x[-1] in string.punctuation and not isfloat(x)) else elongated_word(x) if not isfloat(x) else x))\n",
        "      \n",
        "      #Transform ordinal number\n",
        "      ordinal_handled=' '.join(pd.Series(elongated_handled.split()).apply(lambda x: word_to_number_mapping[x.lower()] if x.lower() in word_to_number_mapping.keys() else x))\n",
        "      \n",
        "      #Remove unnecesary apostrophes \n",
        "      apos_handled=re.sub(apos_pat,'',ordinal_handled)\n",
        "      \n",
        "      #Split Last Word Punctuation\n",
        "      wordpunct=wordpunct_tokenize(apos_handled)\n",
        "      if (len(wordpunct[-1])>1 and wordpunct[-1][-1] in string.punctuation and wordpunct[-2] not in string.punctuation) or (wordpunct[-1] in string.punctuation and wordpunct[-2] not in string.punctuation):\n",
        "        words =tokenize(apos_handled)\n",
        "        words[-1]=wordpunct[-2]\n",
        "        words.append(wordpunct[-1])\n",
        "      else:\n",
        "        words =tokenize(apos_handled)\n",
        "\n",
        "      return (\" \".join(words)).strip()\n",
        "    except:\n",
        "      return sentence"
      ],
      "execution_count": 0,
      "outputs": []
    },
    {
      "cell_type": "code",
      "metadata": {
        "id": "LzdSAdHOAlnT",
        "colab_type": "code",
        "outputId": "b7b37a8e-9734-486b-a3e1-47ebe4360038",
        "colab": {
          "base_uri": "https://localhost:8080/",
          "height": 71
        }
      },
      "source": [
        "concat_df['clean_text']=concat_df['text'].apply(lambda x: sentences_cleaner(x))"
      ],
      "execution_count": 0,
      "outputs": [
        {
          "output_type": "stream",
          "text": [
            "/usr/local/lib/python3.6/dist-packages/bs4/__init__.py:336: UserWarning: \"https://t.co/lPF2fBX26z\" looks like a URL. Beautiful Soup is not an HTTP client. You should probably use an HTTP client like requests to get the document behind the URL, and feed that document to Beautiful Soup.\n",
            "  ' that document to Beautiful Soup.' % decoded_markup\n"
          ],
          "name": "stderr"
        }
      ]
    },
    {
      "cell_type": "code",
      "metadata": {
        "id": "IFI1Gj1-JuFh",
        "colab_type": "code",
        "outputId": "4a8949fa-bdf9-4224-8733-423218aec56a",
        "colab": {
          "base_uri": "https://localhost:8080/",
          "height": 67
        }
      },
      "source": [
        "print('BEFORE CLEANING: {}'.format(concat_df.loc[81,'text']))\n",
        "print()\n",
        "print('AFTER CLEANING: {}'.format(sentences_cleaner(concat_df.loc[81,'text'])))"
      ],
      "execution_count": 0,
      "outputs": [
        {
          "output_type": "stream",
          "text": [
            "BEFORE CLEANING: RT @Montisumo Down day for all biotechs Good to load up Be confident. $ONTY $CHTP $AIS $HGSI $DNDN &gt;&gt; Agreed $IBB $XBI all same downness\n",
            "\n",
            "AFTER CLEANING: Down day for all biotechs Good to load up Be confident $ONTY $CHTP $AIS $HGSI $DNDN >> Agreed $IBB $XBI all same downes\n"
          ],
          "name": "stdout"
        }
      ]
    },
    {
      "cell_type": "code",
      "metadata": {
        "id": "y4rjABAo91Ho",
        "colab_type": "code",
        "outputId": "e6c05143-516d-455c-d771-671bdd77e078",
        "colab": {
          "base_uri": "https://localhost:8080/",
          "height": 67
        }
      },
      "source": [
        "print('BEFORE CLEANING: {}'.format(concat_df.loc[918,'text']))\n",
        "print()\n",
        "print('AFTER CLEANING: {}'.format(sentences_cleaner(concat_df.loc[918,'text'])))"
      ],
      "execution_count": 0,
      "outputs": [
        {
          "output_type": "stream",
          "text": [
            "BEFORE CLEANING: $BBRY nice bounce\n",
            "\n",
            "AFTER CLEANING: $BBRY nice bounce\n"
          ],
          "name": "stdout"
        }
      ]
    },
    {
      "cell_type": "code",
      "metadata": {
        "id": "XSEhgJDBOgY4",
        "colab_type": "code",
        "outputId": "565562e8-3c6e-4665-d5ac-47d05756c07e",
        "colab": {
          "base_uri": "https://localhost:8080/",
          "height": 67
        }
      },
      "source": [
        "print('BEFORE CLEANING: {}'.format(stocktwits_df.loc[43,'text']))\n",
        "print()\n",
        "print('AFTER CLEANING: {}'.format(sentences_cleaner(stocktwits_df.loc[43,'text'])))"
      ],
      "execution_count": 0,
      "outputs": [
        {
          "output_type": "stream",
          "text": [
            "BEFORE CLEANING: @joekidd lost 600 in like 3 days for my $C investment. Sure wish bad news came out just a few days earlier. Think I&#39;ll go over to Russia!\n",
            "\n",
            "AFTER CLEANING: lost 600 in like 3 days for my $C investment Sure wish bad news came out just a few days earlier Think I will go over to Russia !\n"
          ],
          "name": "stdout"
        }
      ]
    },
    {
      "cell_type": "code",
      "metadata": {
        "id": "PYoRtcFaRloW",
        "colab_type": "code",
        "outputId": "1cc228f1-ab23-45a1-e08c-f7bbac18c723",
        "colab": {
          "base_uri": "https://localhost:8080/",
          "height": 67
        }
      },
      "source": [
        "print('BEFORE CLEANING: {}'.format(\"RT $  FB TOMORROW IS MY FIRST BIG WINNNN!!!! #XOXO Trust me it will go up 50.78%!!! #MYWIN\"))\n",
        "print()\n",
        "print('AFTER CLEANING: {}'.format(sentences_cleaner(\"RT $  FB TOMORROW IS MY FIRST BIG WINNNN!!!! #XOXO Trust me it will go up 50.78%!!! #MYWIN\")))"
      ],
      "execution_count": 0,
      "outputs": [
        {
          "output_type": "stream",
          "text": [
            "BEFORE CLEANING: RT $  FB TOMORROW IS MY FIRST BIG WINNNN!!!! #XOXO Trust me it will go up 50.78%!!! #MYWIN\n",
            "\n",
            "AFTER CLEANING: $FB TOMORROW IS MY 1st BIG WIN!!!! #XOXO Trust me it will go up 50.78%!!! #MYWIN\n"
          ],
          "name": "stdout"
        }
      ]
    },
    {
      "cell_type": "markdown",
      "metadata": {
        "id": "KwgV8tKMTr9c",
        "colab_type": "text"
      },
      "source": [
        "# Clean Data"
      ]
    },
    {
      "cell_type": "code",
      "metadata": {
        "id": "bVQ22eSXVqpn",
        "colab_type": "code",
        "outputId": "03a23ab6-f8f1-4745-a3b9-25df137bb367",
        "colab": {
          "base_uri": "https://localhost:8080/",
          "height": 295
        }
      },
      "source": [
        "concat_df.tail(5)"
      ],
      "execution_count": 0,
      "outputs": [
        {
          "output_type": "execute_result",
          "data": {
            "text/html": [
              "<div>\n",
              "<style scoped>\n",
              "    .dataframe tbody tr th:only-of-type {\n",
              "        vertical-align: middle;\n",
              "    }\n",
              "\n",
              "    .dataframe tbody tr th {\n",
              "        vertical-align: top;\n",
              "    }\n",
              "\n",
              "    .dataframe thead th {\n",
              "        text-align: right;\n",
              "    }\n",
              "</style>\n",
              "<table border=\"1\" class=\"dataframe\">\n",
              "  <thead>\n",
              "    <tr style=\"text-align: right;\">\n",
              "      <th></th>\n",
              "      <th>index</th>\n",
              "      <th>cashtag</th>\n",
              "      <th>conversation_parent</th>\n",
              "      <th>conversation_replies</th>\n",
              "      <th>created_at</th>\n",
              "      <th>liked_by_self</th>\n",
              "      <th>official_account</th>\n",
              "      <th>sentiment</th>\n",
              "      <th>sentiment score</th>\n",
              "      <th>source</th>\n",
              "      <th>spans</th>\n",
              "      <th>text</th>\n",
              "      <th>total_likes</th>\n",
              "      <th>clean_text</th>\n",
              "    </tr>\n",
              "  </thead>\n",
              "  <tbody>\n",
              "    <tr>\n",
              "      <th>1449</th>\n",
              "      <td>530</td>\n",
              "      <td>$SBUX</td>\n",
              "      <td>NaN</td>\n",
              "      <td>NaN</td>\n",
              "      <td>[3pm,24pm)</td>\n",
              "      <td>NaN</td>\n",
              "      <td>NaN</td>\n",
              "      <td>NaN</td>\n",
              "      <td>0.220</td>\n",
              "      <td>twitter</td>\n",
              "      <td>[brings upscale concept]</td>\n",
              "      <td>.@Starbucks brings upscale concept to @Midtown...</td>\n",
              "      <td>NaN</td>\n",
              "      <td>brings upscale concept to _url $SBUX</td>\n",
              "    </tr>\n",
              "    <tr>\n",
              "      <th>1450</th>\n",
              "      <td>531</td>\n",
              "      <td>$AAPL</td>\n",
              "      <td>NaN</td>\n",
              "      <td>NaN</td>\n",
              "      <td>[3pm,24pm)</td>\n",
              "      <td>NaN</td>\n",
              "      <td>NaN</td>\n",
              "      <td>NaN</td>\n",
              "      <td>0.365</td>\n",
              "      <td>twitter</td>\n",
              "      <td>[looking for a sharp move up in equities]</td>\n",
              "      <td>On #FEDDAY looking for a sharp move up in equi...</td>\n",
              "      <td>NaN</td>\n",
              "      <td>On #FEDAY looking for a sharp move up in equit...</td>\n",
              "    </tr>\n",
              "    <tr>\n",
              "      <th>1451</th>\n",
              "      <td>532</td>\n",
              "      <td>$AAPL</td>\n",
              "      <td>NaN</td>\n",
              "      <td>NaN</td>\n",
              "      <td>[9am,3pm)</td>\n",
              "      <td>NaN</td>\n",
              "      <td>NaN</td>\n",
              "      <td>NaN</td>\n",
              "      <td>0.435</td>\n",
              "      <td>twitter</td>\n",
              "      <td>[#OwnItDon'tTradeIt]</td>\n",
              "      <td>Either you're a trader or an investor. $AAPL i...</td>\n",
              "      <td>NaN</td>\n",
              "      <td>Either you are a trader or an investor $AAPL i...</td>\n",
              "    </tr>\n",
              "    <tr>\n",
              "      <th>1452</th>\n",
              "      <td>533</td>\n",
              "      <td>$PSXP</td>\n",
              "      <td>NaN</td>\n",
              "      <td>NaN</td>\n",
              "      <td>[0am,9am)</td>\n",
              "      <td>NaN</td>\n",
              "      <td>NaN</td>\n",
              "      <td>NaN</td>\n",
              "      <td>0.414</td>\n",
              "      <td>twitter</td>\n",
              "      <td>[TOP 5 STOCK PICKS]</td>\n",
              "      <td>TOP 5 STOCK PICKS FOR TUESDAY 04/12/16 1) $CNS...</td>\n",
              "      <td>NaN</td>\n",
              "      <td>TOP 5 STOCK PICKS FOR TUESDAY 04/12/16 1) $CNS...</td>\n",
              "    </tr>\n",
              "    <tr>\n",
              "      <th>1453</th>\n",
              "      <td>534</td>\n",
              "      <td>$TSLA</td>\n",
              "      <td>NaN</td>\n",
              "      <td>NaN</td>\n",
              "      <td>[9am,3pm)</td>\n",
              "      <td>NaN</td>\n",
              "      <td>NaN</td>\n",
              "      <td>NaN</td>\n",
              "      <td>0.230</td>\n",
              "      <td>twitter</td>\n",
              "      <td>[Long, buying point]</td>\n",
              "      <td>Long $TQQQ at 104.15 with stop/loss below 1.5%...</td>\n",
              "      <td>NaN</td>\n",
              "      <td>Long $TQQQ at 104.15 with stop/los below 1.5% ...</td>\n",
              "    </tr>\n",
              "  </tbody>\n",
              "</table>\n",
              "</div>"
            ],
            "text/plain": [
              "      index  ...                                         clean_text\n",
              "1449    530  ...               brings upscale concept to _url $SBUX\n",
              "1450    531  ...  On #FEDAY looking for a sharp move up in equit...\n",
              "1451    532  ...  Either you are a trader or an investor $AAPL i...\n",
              "1452    533  ...  TOP 5 STOCK PICKS FOR TUESDAY 04/12/16 1) $CNS...\n",
              "1453    534  ...  Long $TQQQ at 104.15 with stop/los below 1.5% ...\n",
              "\n",
              "[5 rows x 14 columns]"
            ]
          },
          "metadata": {
            "tags": []
          },
          "execution_count": 49
        }
      ]
    },
    {
      "cell_type": "markdown",
      "metadata": {
        "id": "DhOg6rTPTfsD",
        "colab_type": "text"
      },
      "source": [
        "# Feature Engineering"
      ]
    },
    {
      "cell_type": "markdown",
      "metadata": {
        "id": "7Ojg96WyxYwl",
        "colab_type": "text"
      },
      "source": [
        "## Function Definition"
      ]
    },
    {
      "cell_type": "code",
      "metadata": {
        "id": "1D-85l62bFOM",
        "colab_type": "code",
        "colab": {}
      },
      "source": [
        "#dictionary that contains pos tags and their explanations\n",
        "# 'CC': 'coordinating conjunction','CD': 'cardinal digit','DT': 'determiner',\n",
        "# 'EX': 'existential there (like: \\\"there is\\\" ... think of it like \\\"there exists\\\")',\n",
        "# 'FW': 'foreign word','IN':  'preposition/subordinating conjunction','\n",
        "# JJ': 'adjective \\'big\\'','JJR': 'adjective, comparative \\'bigger\\'',\n",
        "# 'JJS': 'adjective, superlative \\'biggest\\'', 'LS': 'list marker 1)', 'MD': 'modal could, will',\n",
        "# 'NN': 'noun, singular \\'desk\\'', 'NNS': 'noun plural \\'desks\\'',\n",
        "#'NNP': 'proper noun, singular \\'Harrison\\'','NNPS': 'proper noun, plural \\'Americans\\'',\n",
        "# 'PDT': 'predeterminer \\'all the kids\\'','POS': 'possessive ending parent\\'s',\n",
        "# 'PRP': 'personal pronoun I, he, she','PRP$': 'possessive pronoun my, his, hers',\n",
        "# 'RB': 'adverb very, silently,', 'RBR': 'adverb, comparative better',\n",
        "# 'RBS': 'adverb, superlative best','RP': 'particle give up', 'TO': 'to go \\'to\\' the store.',\n",
        "# 'UH': 'interjection errrrrrrrm','VB': 'verb, base form take','VBD': 'verb, past tense took',\n",
        "# 'VBG': 'verb, gerund/present participle taking','VBN': 'verb, past participle taken',\n",
        "# 'VBP': 'verb, sing. present, non-3d take','VBZ': 'verb, 3rd person sing. present takes',\n",
        "# 'WDT': 'wh-determiner which','WP': 'wh-pronoun who, what','WP$': 'possessive wh-pronoun whose',\n",
        "# 'WRB': 'wh-abverb where, when','QF' : 'quantifier, bahut, thoda, kam (Hindi)',\n",
        "# 'VM' : 'main verb','PSP' : 'postposition, common in indian langs','DEM' : 'demonstrative, common in indian langs'\n",
        "\n",
        "#Extract Parts of Speech as BOW\n",
        "def extract_pos(doc):\n",
        "#   pos_dict = {'CC':0, 'CD':0,'DT':0,'EX':0,'FW':0,'JJ':0,'JJR':0,'JJS':0,'LS':0,'MD':0,\n",
        "#                 'NN':0,'NNS':0,'NNP':0,'NNPS':0,'PDT':0,'POS':0,'PRP':0,'PRP$':0,'RB':0,\n",
        "#                 'RBR':0,'RBS':0,'RP':0,'TO':0,'UH':0,'VB':0,'VBD':0,'VBG':0,'VBN':0,'VBP':0,\n",
        "#                 'VBZ':0,'VM':0,'WDT':0,'WP':0,'WP$':0,'WRB':0,'QF':0,'PSP':0,'DEM':0}\n",
        "  pos_dict = {'VB':0,'VBD':0,'VBG':0,'VBN':0,'VBP':0,'VBZ':0,'VM':0}\n",
        "  try:\n",
        "    for sent in doc.sentences:\n",
        "      for wrd in sent.words:\n",
        "        if wrd.pos in pos_dict.keys():\n",
        "          pos_dict[wrd.pos]+=1\n",
        "    #return BOW of POS\n",
        "    return pos_dict\n",
        "  except:\n",
        "    return pos_dict\n",
        "  \n",
        "  \n",
        "def n_grams_handled(sentence):\n",
        "  '''\n",
        "  Filter before generate n-gram\n",
        "  '''\n",
        "  try:\n",
        "    tk=TweetTokenizer()\n",
        "    cashtag_pat=r'\\$[^\\s]+'\n",
        "    hashtag_pat=r'#([^\\s]+)'\n",
        "    word_number_pat=r'\\w*\\d\\w*'\n",
        "  \n",
        "    #Remove word which has length < 2\n",
        "    stripped=' '.join([word for word in sentence.split() if len(word)>=2])\n",
        "  \n",
        "    #Remove hashtag\n",
        "    hashtag_handled= re.sub(hashtag_pat,\"\", stripped)\n",
        "  \n",
        "    #Remove cashtag\n",
        "    cashtag_handled= re.sub(cashtag_pat,\"\", hashtag_handled)\n",
        "    \n",
        "    #Remove word with number\n",
        "    number_handled= re.sub(word_number_pat,\"\", cashtag_handled)\n",
        "  \n",
        "    #Remove unnecesary white spaces\n",
        "    words = tk.tokenize(number_handled)\n",
        "    words = [x for x in words if x not in string.punctuation]\n",
        "    clean_sentence=(\" \".join(words)).strip()\n",
        "    return  clean_sentence\n",
        "  except:\n",
        "    return sentence\n",
        "\n",
        "def rf_ngram(df,gram): \n",
        "  '''\n",
        "  create rf-ngram\n",
        "  '''\n",
        "  def sentence_sparse(sentence,gram,rf_ngram,sparse_rf_ngram):\n",
        "    #Initiate Linke List Sparse Matrix\n",
        "    zero_sparse=sp.lil_matrix( (1,len(rf_ngram)), dtype=float)\n",
        "    #Assign Value of rf_ngram to each word in sentence\n",
        "    splitted_text=tokenize(n_grams_handled(sentence))\n",
        "    #Unigram\n",
        "    if gram==1:\n",
        "      for word in splitted_text:\n",
        "        if word in rf_ngram.index:\n",
        "          zero_sparse[0,rf_ngram.index.get_loc(word)]+=sparse_rf_ngram[0,rf_ngram.index.get_loc(word)]\n",
        "      #Convert LinkedList Sparse Matrix into CSR Sparse Matrix\n",
        "      sparse=zero_sparse.tocsr()\n",
        "    #Bigram\n",
        "    elif gram==2:\n",
        "      bigram=lambda x: splitted_text[x]+' '+splitted_text[x+1]\n",
        "      it_2_gram=range(len(splitted_text)-1)\n",
        "      for i in it_2_gram:\n",
        "        if bigram(i) in rf_ngram.index:\n",
        "          zero_sparse[0,rf_ngram.index.get_loc(bigram(i))]+=sparse_rf_ngram[0,rf_ngram.index.get_loc(bigram(i))]\n",
        "      #Convert LinkedList Sparse Matrix into CSR Sparse Matrix\n",
        "      sparse=zero_sparse.tocsr()\n",
        "    #Trigram\n",
        "    elif gram==3:\n",
        "      trigram=lambda x: splitted_text[x]+' '+splitted_text[x+1]+' '+splitted_text[x+2]\n",
        "      it_3_gram=range(len(splitted_text)-2)\n",
        "      for i in it_3_gram:\n",
        "        if trigram(i) in rf_ngram.index:\n",
        "          zero_sparse[0,rf_ngram.index.get_loc(trigram(i))]+=sparse_rf_ngram[0,rf_ngram.index.get_loc(trigram(i))]\n",
        "      #Convert LinkedList Sparse Matrix into CSR Sparse Matrix\n",
        "      sparse=zero_sparse.tocsr()\n",
        "    #4grams\n",
        "    elif gram==4:\n",
        "      fourgram=lambda x: splitted_text[x]+' '+splitted_text[x+1]+' '+splitted_text[x+2]+' '+splitted_text[x+3]\n",
        "      it_4_gram=range(len(splitted_text)-3)\n",
        "      for i in it_4_gram:\n",
        "        if fourgram(i) in rf_ngram.index:\n",
        "          zero_sparse[0,rf_ngram.index.get_loc(fourgram(i))]+=sparse_rf_ngram[0,rf_ngram.index.get_loc(fourgram(i))]\n",
        "      #Convert LinkedList Sparse Matrix into CSR Sparse Matrix\n",
        "      sparse=zero_sparse.tocsr()\n",
        "    return(sparse)\n",
        "\n",
        "  BOW_df= pd.DataFrame(columns=['pos','neutral','neg'])\n",
        "  words_set = set()\n",
        "  \n",
        "  #Creating the rf_ngram dictionary of words\n",
        "  it=range(len(df))\n",
        "  for i in it:\n",
        "    score=df.loc[i,'sentiment score']\n",
        "    if score>0:\n",
        "      score='pos'\n",
        "    elif score<0:\n",
        "      score='neg'\n",
        "    else:\n",
        "      score='neutral'\n",
        "    try:\n",
        "      text=df.loc[i,'clean_text']\n",
        "      cleaned_text=n_grams_handled(text)\n",
        "      splitted_text=tokenize(cleaned_text)\n",
        "      if gram==1:\n",
        "        for word in splitted_text:\n",
        "          if word not in words_set:#check if this word already counted or not in the full corpus\n",
        "            words_set.add(word)\n",
        "            BOW_df.loc[word] = [0,0,0]\n",
        "            BOW_df.loc[word,score]+=1\n",
        "          else:\n",
        "            BOW_df.loc[word,score]+=1\n",
        "      elif gram==2:\n",
        "        it_2_gram=range(len(splitted_text)-1)\n",
        "        bigram=lambda x: splitted_text[x]+' '+splitted_text[x+1]\n",
        "        for i in it_2_gram:\n",
        "          if bigram(i) not in words_set:\n",
        "            words_set.add(bigram(i))\n",
        "            BOW_df.loc[bigram(i)] = [0,0,0]\n",
        "            BOW_df.loc[bigram(i),score]+=1\n",
        "          else:\n",
        "            BOW_df.loc[bigram(i),score]+=1\n",
        "      elif gram==3:\n",
        "        it_3_gram=range(len(splitted_text)-2)\n",
        "        trigram=lambda x: splitted_text[x]+' '+splitted_text[x+1]+' '+splitted_text[x+2]\n",
        "        for i in it_3_gram:\n",
        "          if trigram(i) not in words_set:\n",
        "            words_set.add(trigram(i))\n",
        "            BOW_df.loc[trigram(i)] = [0,0,0]\n",
        "            BOW_df.loc[trigram(i),score]+=1\n",
        "          else:\n",
        "            BOW_df.loc[trigram(i),score]+=1\n",
        "      elif gram==4:\n",
        "        it_4_gram=range(len(splitted_text)-3)\n",
        "        fourgram=lambda x: splitted_text[x]+' '+splitted_text[x+1]+' '+splitted_text[x+2]+' '+splitted_text[x+3]\n",
        "        for i in it_4_gram:\n",
        "          if fourgram(i) not in words_set:\n",
        "            words_set.add(fourgram(i))\n",
        "            BOW_df.loc[fourgram(i)] = [0,0,0]\n",
        "            BOW_df.loc[fourgram(i),score]+=1\n",
        "          else:\n",
        "            BOW_df.loc[fourgram(i),score]+=1 \n",
        "    except:\n",
        "      None\n",
        "  #Calculate rf_ngram for each word\n",
        "  series_1=pd.Series([1 for x in range(len(BOW_df))])\n",
        "  series_1.index=BOW_df.index\n",
        "  series_2=pd.Series([2 for x in range(len(BOW_df))])\n",
        "  series_2.index=BOW_df.index\n",
        "  frac_1=np.log(series_2+(BOW_df['pos']/pd.concat([series_1,BOW_df['neg']],1).max(axis=1)))\n",
        "  frac_2=np.log(series_2+(BOW_df['neg']/pd.concat([series_1,BOW_df['pos']],1).max(axis=1)))\n",
        "  rf_ngram_series= pd.concat([frac_1,frac_2],1).max(axis=1)\n",
        "  sparse_rf_ngram=sp.csr_matrix(rf_ngram_series)\n",
        "\n",
        "  rf_ngram_avg_list=df['clean_text'].apply(lambda x: np.mean([i for i in sentence_sparse(x,gram,rf_ngram_series,sparse_rf_ngram).toarray()[0].tolist() if i!=0]) if type(x)==str else np.nan)\n",
        "\n",
        "  return(rf_ngram_avg_list)\n",
        "\n",
        "def PMI(df): \n",
        "  '''\n",
        "  create PMI variable\n",
        "  '''\n",
        "  BOW_df= pd.DataFrame(columns=['pos','neutral','neg'])\n",
        "  words_set = set()\n",
        "  \n",
        "  #Creating the dictionary of words\n",
        "  it=range(len(df))\n",
        "  for i in it:\n",
        "    score=df.loc[i,'sentiment score']\n",
        "    if score>0:\n",
        "      score='pos'\n",
        "    elif score<0:\n",
        "      score='neg'\n",
        "    else:\n",
        "      score='neutral'\n",
        "    try:\n",
        "      text=df.loc[i,'clean_text']\n",
        "      cleaned_text=n_grams_handled(text)\n",
        "      splitted_text=tokenize(cleaned_text)\n",
        "      for word in splitted_text:\n",
        "        if word not in words_set:#check if this word already counted or not in the full corpus\n",
        "          words_set.add(word)\n",
        "          BOW_df.loc[word] = [0,0,0]\n",
        "          BOW_df.loc[word,score]+=1\n",
        "        else:\n",
        "          BOW_df.loc[word,score]+=1\n",
        "    except:\n",
        "      None\n",
        "    \n",
        "  N=len(BOW_df) #Number of unique tokens in the corpus\n",
        "  pos_N=len(BOW_df[BOW_df.pos!=0]) #Number of unique positive tokens in the corpus\n",
        "  neg_N=len(BOW_df[BOW_df.neg!=0]) #Number of unique positive tokens in the corpus\n",
        "  total=BOW_df.sum().sum() #Number of tokens in the corpus\n",
        "  pos_total=BOW_df.sum()['pos'] #Number of tokens in the positive corpus\n",
        "  neg_total=BOW_df.sum()['neg'] #Number of tokens in the negative corpus\n",
        "  PMI_df=pd.DataFrame(columns=['freq_word','freq_word_pos','freq_word_neg'])\n",
        "  PMI_df['freq_word']=pd.Series(BOW_df.index).apply(lambda x: (BOW_df.loc[x,'pos']+BOW_df.loc[x,'neutral']+BOW_df.loc[x,'neg'])/total)\n",
        "  PMI_df['freq_word_pos']=pd.Series(BOW_df.index).apply(lambda x: BOW_df.loc[x,'pos']/pos_total) #Freq of word w in positive text\n",
        "  PMI_df['freq_word_neg']=pd.Series(BOW_df.index).apply(lambda x: BOW_df.loc[x,'neg']/neg_total) #Freq of word w in negative text\n",
        "  PMI_df.index=BOW_df.index\n",
        "  \n",
        "  #Calculate PMI for each word\n",
        "  PMI_df['PMI_pos']=np.log2(1+((PMI_df['freq_word_pos']*N)/(PMI_df['freq_word']*pos_N)))\n",
        "  PMI_df['PMI_neg']=np.log2(1+((PMI_df['freq_word_neg']*N)/(PMI_df['freq_word']*neg_N)))\n",
        "  PMI_df['PMI']=PMI_df['PMI_pos']-PMI_df['PMI_neg']\n",
        "  \n",
        "  PMI_avg_list=df['clean_text'].apply(lambda x: np.mean([PMI_df.loc[i,'PMI'] for i in tokenize(n_grams_handled(x)) if i in PMI_df.index]) if type(x)==str else np.nan)\n",
        "\n",
        "  return(PMI_avg_list)\n",
        "\n",
        "def countAllCaps(text):\n",
        "    \"\"\" Input: a text, Output: how many words are all caps \"\"\"\n",
        "    return len(re.findall(\"[A-Z]{2,}\", text))\n",
        "\n",
        "def countHashtag(text):\n",
        "    \"\"\" Input: a text, Output: how many hastags in front of a word \"\"\"\n",
        "    return len(re.findall(r'#([^\\s]+)', text))\n",
        "  \n",
        "def is_ordinal_numbers(sentences):\n",
        "  occur=0\n",
        "  for word in tokenize(sentences):\n",
        "    if ((word[-2:] in ['st','nd','rd','th']) and (isfloat(word[:-2]))):\n",
        "      occur=1\n",
        "  return(occur)\n",
        "\n",
        "def countMultiExclamationMarks(sentences):\n",
        "    \"\"\" Replaces repetitions of exlamation marks \"\"\"\n",
        "    return len(re.findall(r\"(\\!)\\1+\", sentences))\n",
        "  \n",
        "def countMultiQuestionMarks(sentences):\n",
        "    \"\"\" Count repetitions of question marks \"\"\"\n",
        "    return len(re.findall(r\"(\\?)\\1+\", sentences))\n",
        "  \n",
        "def sentence_synset(sentence):\n",
        "  '''\n",
        "  return the wordnet synset of each word in the sentence\n",
        "  ''' \n",
        "  def penn_to_wn(tag):\n",
        "    if tag.startswith('J'):\n",
        "      return wn.ADJ\n",
        "    elif tag.startswith('N'):\n",
        "      return wn.NOUN\n",
        "    elif tag.startswith('R'):\n",
        "      return wn.ADV\n",
        "    elif tag.startswith('V'):\n",
        "      return wn.VERB\n",
        "    return None\n",
        "  \n",
        "  tagged = pos_tag(tokenize(sentence))\n",
        "\n",
        "  synsets_list = []\n",
        "  lemmatzr = WordNetLemmatizer()\n",
        "\n",
        "  for token in tagged:\n",
        "    wn_tag = penn_to_wn(token[1])\n",
        "    if not wn_tag:\n",
        "      continue\n",
        "\n",
        "    lemma = lemmatzr.lemmatize(token[0], pos=wn_tag)\n",
        "    try:\n",
        "      synsets_list.append(wn.synsets(lemma, pos=wn_tag)[0])\n",
        "    except:\n",
        "      None\n",
        "  return synsets_list\n",
        "\n",
        "def min_multiple_list(S):\n",
        "  '''\n",
        "  Minimum pooling\n",
        "  '''\n",
        "    it=range(len(S)-1)\n",
        "    minim=S[0]\n",
        "    for i in it:\n",
        "        minim=np.minimum(minim,S[i])\n",
        "    return(minim)\n",
        "def max_multiple_list(S):\n",
        "  '''\n",
        "  Maximum pooling\n",
        "  '''\n",
        "    it=range(len(S)-1)\n",
        "    maxim=S[0]\n",
        "    for i in it:\n",
        "        maxim=np.maximum(maxim,S[i])\n",
        "    return(maxim)\n",
        "  \n",
        "def W2V_sentence_embedding(df):\n",
        "  '''\n",
        "  return dataframe for W2V sentence embedding\n",
        "  '''\n",
        "  zero=np.array([float(0) for i in range(300)])\n",
        "  nan=np.array([np.nan for i in range(300)])\n",
        "  vec_W2V=lambda x: model_w2v[x] if x in model_w2v else zero\n",
        "  W2V_avg=df['clean_text'].apply(lambda sent: pd.Series(tokenize(sent)).apply(lambda x: vec_W2V(x)).mean() if type(sent)==str else nan)\n",
        "  W2V_min=df['clean_text'].apply(lambda sent: min_multiple_list(pd.Series(tokenize(sent)).apply(lambda x: vec_W2V(x))) if type(sent)==str else nan)\n",
        "  W2V_max=df['clean_text'].apply(lambda sent: max_multiple_list(pd.Series(tokenize(sent)).apply(lambda x: vec_W2V(x))) if type(sent)==str else nan)\n",
        "  W2V_concat=W2V_avg.copy()\n",
        "  it=range(len(W2V_concat))\n",
        "  for i in it:\n",
        "    W2V_concat[i]=(pd.Series(W2V_avg[i]).append(pd.Series(W2V_min[i]),ignore_index=True).append(pd.Series(W2V_max[i]),ignore_index=True)).values\n",
        "    \n",
        "  W2V_df=pd.DataFrame(dict(zip(W2V_concat.index, W2V_concat.values))).T\n",
        "  return(W2V_df)\n",
        "\n",
        "def GloVe_sentence_embedding(df):\n",
        "   '''\n",
        "  return dataframe for GloVe sentence embedding\n",
        "  '''\n",
        "  zero=np.array([float(0) for i in range(200)])\n",
        "  nan=np.array([np.nan for i in range(200)])\n",
        "  vec_GloVe=lambda x: model_GloVe[x] if x in model_GloVe else zero\n",
        "  GloVe_avg=df['clean_text'].apply(lambda sent: pd.Series(tokenize(sent)).apply(lambda x: vec_GloVe(x)).mean() if type(sent)==str else nan)\n",
        "  GloVe_min=df['clean_text'].apply(lambda sent: min_multiple_list(pd.Series(tokenize(sent)).apply(lambda x: vec_GloVe(x))) if type(sent)==str else nan)\n",
        "  GloVe_max=df['clean_text'].apply(lambda sent: max_multiple_list(pd.Series(tokenize(sent)).apply(lambda x: vec_GloVe(x))) if type(sent)==str else nan)\n",
        "  GloVe_concat=GloVe_avg.copy()\n",
        "  it=range(len(GloVe_concat))\n",
        "  for i in it:\n",
        "    GloVe_concat[i]=(pd.Series(GloVe_avg[i]).append(pd.Series(GloVe_min[i]),ignore_index=True).append(pd.Series(GloVe_max[i]),ignore_index=True)).values\n",
        "    \n",
        "  GloVe_df=pd.DataFrame(dict(zip(GloVe_concat.index, GloVe_concat.values))).T\n",
        "  return(GloVe_df)\n",
        "\n",
        "def rescaling(df,columns,scale_type='Standard'):\n",
        "  '''\n",
        "  Function for Feature Scaling\n",
        "  '''\n",
        "  scale_type=scale_type.lower()\n",
        "  scaled_X=df.drop(columns,1)\n",
        "  X=df[columns]\n",
        "  \n",
        "  if scale_type=='minmax':\n",
        "    scaler=MinMaxScaler(feature_range=(0,1))\n",
        "  elif scale_type=='standard':\n",
        "    scaler=StandardScaler()\n",
        "\n",
        "  scaled_column=scaler.fit_transform(X)\n",
        "  scaled_column=pd.DataFrame(scaled_column,columns=columns)\n",
        "  for column in columns:\n",
        "    scaled_X[column]=scaled_column[column].tolist()\n",
        "  \n",
        "  return(scaled_X)\n",
        "\n",
        "def elbow_plot_kmeans(df,columns,kmax,step,scaled=True):\n",
        "  '''\n",
        "  Function for kMeans elbow plot\n",
        "  \n",
        "  kmax is maximum number of k\n",
        "  step is looping step for testing kmeans\n",
        "  '''\n",
        "  if scaled==False:\n",
        "    X=rescaling(df,columns,scale_type='Standard')\n",
        "  else:\n",
        "    X=df.copy()\n",
        "  \n",
        "  WCSS=[]\n",
        "  for i in range(1,kmax,step):\n",
        "    kmeans=MiniBatchKMeans(n_clusters=i,init='k-means++',random_state=100,verbose=False)\n",
        "    kmeans.fit(X)\n",
        "    WCSS.append(kmeans.inertia_)\n",
        "    \n",
        "  plt.plot(range(1,kmax,step),WCSS)\n",
        "  plt.title('Elbow Method')\n",
        "  plt.xlabel('Number of Clusters')\n",
        "  plt.ylabel('WCSS')\n",
        "  plt.xlim([0,kmax])\n",
        "  plt.show()\n",
        "  \n",
        "def kmeans(df,columns,k,scaled=True,plot=True):\n",
        "  '''\n",
        "  Function for kMeans segmentation\n",
        "  '''\n",
        "  if scaled==False:\n",
        "    X=rescaling(df,columns,scale_type='Standard')\n",
        "  else:\n",
        "    X=df[columns].copy()\n",
        "    \n",
        "  kmeans=MiniBatchKMeans(n_clusters=k ,init='k-means++',random_state=100,verbose=False)\n",
        "  y=kmeans.fit(X)\n",
        "  \n",
        "  if plot==True:\n",
        "    if len(columns)>2:\n",
        "      pca = PCA(n_components=3)\n",
        "      df_pca = pca.fit_transform(X)\n",
        "      df_pca=pd.DataFrame(df_pca,columns=['pca_1','pca_2','pca_3'])\n",
        "      fig=plt.figure()\n",
        "      ax=plt.axes(projection=\"3d\")\n",
        "      scatter=ax.scatter3D(df_pca.loc[:,'pca_1'],df_pca.loc[:,'pca_2'],df_pca.loc[:,'pca_3'],c=y.labels_,cmap='hsv')\n",
        "      plt.colorbar(scatter)\n",
        "      plt.title(str(k)+'-Means Clustering')\n",
        "      plt.show()\n",
        "    else:\n",
        "      scatter=plt.scatter(df.loc[:,columns[0]],df.loc[:,columns[1]],c=y.labels_)\n",
        "      plt.xlabel(columns[0])\n",
        "      plt.ylabel(columns[1])\n",
        "      plt.title(str(k)+'-Means Clustering')\n",
        "      plt.show()\n",
        "  return(y.labels_)\n",
        "\n",
        "def feature_engineering_split(df):\n",
        "  #List of POS-Tag\n",
        "#   pos_key = ['CC', 'CD','DT','EX','FW','JJ','JJR','JJS','LS','MD', 'NN','NNS','NNP','NNPS','PDT'\n",
        "#               ,'POS','PRP','PRP$','RB', 'RBR','RBS','RP','TO','UH','VB','VBD','VBG','VBN','VBP',\n",
        "#               'VBZ','VM','WDT','WP','WP$','WRB','QF','PSP','DEM']\n",
        "  pos_key = ['VB','VBD','VBG','VBN','VBP','VBZ','VM']\n",
        "\n",
        "  #Initiate pipeline for POS-Tagging\n",
        "  nlp = stanfordnlp.Pipeline(processors = \"tokenize,pos\")\n",
        "\n",
        "  #Inititate class for Lemmatization\n",
        "  lemmatizer = WordNetLemmatizer()\n",
        "\n",
        "  #Initiate class for Stemming\n",
        "  stemmer = PorterStemmer()\n",
        "  \n",
        "  #Lemmatization+Stemming\n",
        "  df['base_text']=df['clean_text'].apply(lambda x: ' '.join(pd.Series(tokenize(x)).apply(lambda wrd: stemmer.stem(lemmatizer.lemmatize(wrd)) if wrd[0]!='$' else wrd).to_list()) if type(x)==str else np.nan)\n",
        "  print('Done Base Text')\n",
        "  \n",
        "  #Create POS-Tag features\n",
        "  for tag in pos_key:\n",
        "    df['POS_'+tag]=df['clean_text'].apply(lambda x: extract_pos(nlp(x))[tag] if type(x)==str else np.nan)\n",
        "  print('Done POS Tag')\n",
        "  \n",
        "  #Binary Feature '+num'\n",
        "  df['+num']=df['clean_text'].apply(lambda x: 1 if ((type(x)==str) and len(re.findall(r'\\+\\d+\\s|\\+\\d+[!,.;:?/]|\\+\\d+$',x))>0) else 0  if type(x)==str else np.nan)\n",
        "    \n",
        "  #Binary Feature '-num'\n",
        "  df['-num']=df['clean_text'].apply(lambda x: 1 if ((type(x)==str) and len(re.findall(r'\\-\\d+\\s|\\-\\d+[!,.;:?/]|\\-\\d+$',x))>0) else 0  if type(x)==str else np.nan)\n",
        "    \n",
        "  #Binary Feature 'num%'\n",
        "  df['num%']=df['clean_text'].apply(lambda x: 1 if ((type(x)==str) and len(re.findall(r' \\d.\\d*%+|^\\d.\\d*%+|[!,.;:?/]\\d.\\d*%+| \\d*%+|^\\d*%+|[!,.;:?/]\\d*%+',x))>0) else 0  if type(x)==str else np.nan)\n",
        "    \n",
        "  #Binary Feature '+num%'\n",
        "  df['+num%']=df['clean_text'].apply(lambda x: 1 if ((type(x)==str) and len(re.findall(r'\\+\\d.\\d*%+|\\+\\d*%+',x))>0) else 0  if type(x)==str else np.nan)\n",
        "    \n",
        "  #Binary Feature '-num%'\n",
        "  df['-num%']=df['clean_text'].apply(lambda x: 1 if ((type(x)==str) and len(re.findall(r'\\-\\d.\\d*%+|\\-\\d*%+',x))>0) else 0  if type(x)==str else np.nan)\n",
        "    \n",
        "  #Binary Features '$num'\n",
        "  df['$num']=df['clean_text'].apply(lambda x: 1 if ((type(x)==str) and len(re.findall(r'\\$\\d*%+',x))>0) else 0  if type(x)==str else np.nan)\n",
        "    \n",
        "  #Binary Feature mixed number and word\n",
        "  df['word_num']=df['clean_text'].apply(lambda x: 1 if (type(x)==str and len(re.findall(r'\\w*\\d\\w*',x))>0) else 0 if (type(x)==str) else np.nan)\n",
        "    \n",
        "  #Binary Feature ordinal number\n",
        "  df['ordinal_num']=df['clean_text'].apply(lambda x: is_ordinal_numbers(x) if type(x)==str else np.nan)\n",
        "    \n",
        "  #Binary Feature  'num-num'\n",
        "  df['num-num']=df['clean_text'].apply(lambda x: 1 if ((type(x)==str) and len(re.findall(r'\\d*-\\d+',x))>0) else 0  if type(x)==str else np.nan)\n",
        "    \n",
        "  #Binary Feature  'num-num%'\n",
        "  df['num-num%']=df['clean_text'].apply(lambda x: 1 if ((type(x)==str) and len(re.findall(r'\\d*-\\d%+',x))>0) else 0  if type(x)==str else np.nan)\n",
        "    \n",
        "  #Binary Feature  'num-num-num'\n",
        "  df['num-num-num']=df['clean_text'].apply(lambda x: 1 if ((type(x)==str) and len(re.findall(r'\\d*-\\d-\\d+',x))>0) else 0  if type(x)==str else np.nan)\n",
        "    \n",
        "  #Binary Feature  'num/num'\n",
        "  df['num/num']=df['clean_text'].apply(lambda x: 1 if ((type(x)==str) and len(re.findall(r'\\d*/\\d+',x))>0) else 0  if type(x)==str else np.nan)\n",
        "    \n",
        "  #Binary Feature  'num/num/num'\n",
        "  df['num/num/num']=df['clean_text'].apply(lambda x: 1 if ((type(x)==str) and len(re.findall(r'\\d*/\\d/\\d+',x))>0) else 0  if type(x)==str else np.nan)\n",
        "    \n",
        "  #Binary Feature  only numbers(no symbol and characters)\n",
        "  df['only_number']=df['clean_text'].apply(lambda x:1 if (type(x)==str and any(isfloat(wrd) for wrd in tokenize(x))) else 0 if type(x)==str else np.nan)\n",
        "  print('Done Keyword+num')\n",
        "  \n",
        "  f_plus=lambda x: pd.Series(tokenize(x)).apply(lambda wrd: 1 if len(re.findall(r'\\+\\d.\\d*%+|\\+\\d*%+',wrd))>0 else 0)\n",
        "  g_plus=lambda y: f_plus(y)[f_plus(y)==1].index.tolist()\n",
        "  f_min=lambda x: pd.Series(tokenize(x)).apply(lambda wrd: 1 if len(re.findall(r'\\-\\d.\\d*%+|\\-\\d*%+',wrd))>0 else 0)\n",
        "  g_min=lambda y: f_min(y)[f_min(y)==1].index.tolist()\n",
        "  \n",
        "  #Binary Feature  'call'(or 'calls' or 'called') before '+num%'\n",
        "  df['call_+num%']=df['clean_text'].apply(lambda z: 1 if (type(z)==str and any((tokenize(z)[i-1]=='call' or tokenize(z)[i-1]=='calls' or tokenize(z)[i-1]=='called') for i in g_plus(z))) else 0 if type(z)==str else np.nan)\n",
        "    \n",
        "  #Binary Feature  'call'(or 'calls' or 'called') before '-num%'\n",
        "  df['call_-num%']=df['clean_text'].apply(lambda z: 1 if (type(z)==str and any((tokenize(z)[i-1]=='call' or tokenize(z)[i-1]=='calls' or tokenize(z)[i-1]=='called') for i in g_min(z))) else 0 if type(z)==str else np.nan)\n",
        "    \n",
        "  #Binary Feature  'put'(or 'puts') before '+num%'  \n",
        "  df['put_+num%']=df['clean_text'].apply(lambda z: 1 if (type(z)==str and any((tokenize(z)[i-1]=='put' or tokenize(z)[i-1]=='puts') for i in g_plus(z))) else 0 if type(z)==str else np.nan)\n",
        "    \n",
        "  #Binary Feature  'put'(or 'puts') before '-num%'\n",
        "  df['put_-num%']=df['clean_text'].apply(lambda z: 1 if (type(z)==str and any((tokenize(z)[i-1]=='put' or tokenize(z)[i-1]=='puts') for i in g_min(z))) else 0 if type(z)==str else np.nan)\n",
        "                  \n",
        "  #Binary Feature 'Bull' or 'Bullish'\n",
        "  df['bull']=df['clean_text'].apply(lambda x: 1 if (type(x)==str and ('bull' or 'bullish') in x.split()) else 0 if type(x)==str else np.nan)\n",
        "                   \n",
        "  #Binary Feature 'Bear' or 'Bearish'\n",
        "  df['bear']=df['clean_text'].apply(lambda x: 1 if (type(x)==str and ('bear' or 'bearish') in x.split()) else 0 if type(x)==str else np.nan)                \n",
        "  print('Done Specific Keyword')\n",
        "  \n",
        "  tk=TweetTokenizer()\n",
        "  #Calculate the number of '!'\n",
        "  df['number_of_!']=df['clean_text'].apply(lambda x: tk.tokenize(x).count('!') if type(x)==str else np.nan)\n",
        "    \n",
        "  #Calculate the number of '?'\n",
        "  df['number_of_?']=df['clean_text'].apply(lambda x: tk.tokenize(x).count('?') if type(x)==str else np.nan)\n",
        "    \n",
        "  #Calculate the number of '$'\n",
        "  df['number_of_$']=df['clean_text'].apply(lambda x: tk.tokenize(x).count('$') if type(x)==str else np.nan)\n",
        "    \n",
        "  #Calculate the number of continuous '!'\n",
        "  df['continous_!']=df['clean_text'].apply(lambda x: countMultiExclamationMarks(x) if type(x)==str else np.nan)\n",
        "    \n",
        "  #Calculate the number of continuous '?'\n",
        "  df['continous_?']=df['clean_text'].apply(lambda x: countMultiQuestionMarks(x) if type(x)==str else np.nan)\n",
        "  print('Done Punctation Count')\n",
        "  \n",
        "  #Calculate the number of Caps word\n",
        "  df['caps_word']=df['clean_text'].apply(lambda x: countAllCaps(' '.join([i for i in x.split() if i[0]!='$'])) if type(x)==str else np.nan)\n",
        "  print('Done Caps words')\n",
        "  \n",
        "  #Calculate the number of Hashtags\n",
        "  df['hashtags']=df['clean_text'].apply(lambda x: countHashtag(x) if type(x)==str else np.nan)\n",
        "  print('Done Hashtags')\n",
        "                   \n",
        "  #AFINN Sentiment Lexicon\n",
        "  affin_sent_score=lambda x: pd.Series(tokenize(x)).apply(lambda wrd: AFINN_dict[wrd.lower()] if wrd.lower() in AFINN_dict.keys() else 0)\n",
        "  affin_sent_binary=lambda x: pd.Series(tokenize(x)).apply(lambda wrd: 1 if (wrd.lower() in AFINN_dict.keys() and AFINN_dict[wrd.lower()]>0) else\n",
        "                                                         -1 if (wrd.lower() in AFINN_dict.keys() and AFINN_dict[wrd.lower()]<0) else 0)       \n",
        "  #Sum Score\n",
        "  df['AFINN_sum_score']=df['clean_text'].apply(lambda x: affin_sent_score(x).sum() if type(x)==str else np.nan)\n",
        "  #Max Score\n",
        "  df['AFINN_max_score']=df['clean_text'].apply(lambda x: affin_sent_score(x).max() if type(x)==str else np.nan)        \n",
        "  #Min Score\n",
        "  df['AFINN_min_score']=df['clean_text'].apply(lambda x: affin_sent_score(x).min() if type(x)==str else np.nan)  \n",
        "  #Ratio of Positive Words\n",
        "  df['AFINN_pos_ratio']=df['clean_text'].apply(lambda x: sum(1 for i in affin_sent_binary(x) if i==1)/len(tokenize(x)) if type(x)==str else np.nan)\n",
        "  #Ratio of Negatiive Words\n",
        "  df['AFINN_neg_ratio']=df['clean_text'].apply(lambda x: sum(1 for i in affin_sent_binary(x) if i==-1)/len(tokenize(x)) if type(x)==str else np.nan)  \n",
        "  print('Done AFIIN Lexicon')\n",
        "  \n",
        "  #BingLiu Sentiment Lexicon\n",
        "  bingliu_sent_binary=lambda x: pd.Series(tokenize(x)).apply(lambda wrd: 1 if wrd.lower() in BingLiu_dict['pos'] else -1 if wrd.lower() in BingLiu_dict['neg'] else 0)\n",
        "  #Ratio of Positive Words\n",
        "  df['BingLiu_pos_ratio']=df['clean_text'].apply(lambda x: sum(1 for i in bingliu_sent_binary(x) if i==1)/len(tokenize(x)) if type(x)==str else np.nan)\n",
        "  #Ratio of Negative Words\n",
        "  df['BingLiu_neg_ratio']=df['clean_text'].apply(lambda x: sum(1 for i in bingliu_sent_binary(x) if i==-1)/len(tokenize(x)) if type(x)==str else np.nan)\n",
        "  print('Done BingLiu Lexicon')\n",
        "  \n",
        "  #General Inquirer Sentiment Lexicon\n",
        "  general_inquirer_binary=lambda x: pd.Series(tokenize(x)).apply(lambda wrd: 1 if wrd.lower() in General_Inquirer_dict['pos'] else -1 if wrd.lower() in General_Inquirer_dict['neg'] else 0)\n",
        "  #Ratio of Positive Words\n",
        "  df['General_Inquirer_pos_ratio']=df['clean_text'].apply(lambda x: sum(1 for i in general_inquirer_binary(x) if i==1)/len(tokenize(x)) if type(x)==str else np.nan)\n",
        "  #Ratio of Negative Words\n",
        "  df['General_Inquirer_neg_ratio']=df['clean_text'].apply(lambda x: sum(1 for i in general_inquirer_binary(x) if i==-1)/len(tokenize(x)) if type(x)==str else np.nan)\n",
        "  print('Done General Inquirer Lexicon')\n",
        "  \n",
        "  #NRC Hashtag Sentiment Lexicon\n",
        "  nrc_hashtag_sent_score=lambda x: pd.Series(tokenize(x)).apply(lambda wrd: NRC_hashtag_dict[wrd.lower()] if wrd.lower() in NRC_hashtag_dict.keys() else 0)\n",
        "  nrc_hashtag_sent_binary=lambda x: pd.Series(tokenize(x)).apply(lambda wrd: 1 if (wrd.lower() in NRC_hashtag_dict.keys() and NRC_hashtag_dict[wrd.lower()]>0) else\n",
        "                                                         -1 if (wrd.lower() in NRC_hashtag_dict.keys() and NRC_hashtag_dict[wrd.lower()]<0) else 0)       \n",
        "  #Sum Score\n",
        "  df['NRC_Hashtag_sum_score']=df['clean_text'].apply(lambda x: nrc_hashtag_sent_score(x).sum() if type(x)==str else np.nan)\n",
        "  #Max Score\n",
        "  df['NRC_Hashtag_max_score']=df['clean_text'].apply(lambda x: nrc_hashtag_sent_score(x).max() if type(x)==str else np.nan)        \n",
        "  #Min Score\n",
        "  df['NRC_Hashtag_min_score']=df['clean_text'].apply(lambda x: nrc_hashtag_sent_score(x).min() if type(x)==str else np.nan)  \n",
        "  #Ratio of Positive Words\n",
        "  df['NRC_Hashtag_pos_ratio']=df['clean_text'].apply(lambda x: sum(1 for i in nrc_hashtag_sent_binary(x) if i==1)/len(tokenize(x)) if type(x)==str else np.nan)\n",
        "  #Ratio of Negatiive Words\n",
        "  df['NRC_Hashtag_neg_ratio']=df['clean_text'].apply(lambda x: sum(1 for i in nrc_hashtag_sent_binary(x) if i==-1)/len(tokenize(x)) if type(x)==str else np.nan)  \n",
        "  print('Done NRC Hashtag Sentiment Lexicon')\n",
        "  \n",
        "  #SentiWordNet Sentiment Lexicon\n",
        "  sentiwordnet_list=sentiwordnet.ID.tolist()\n",
        "  sent_to_synset=lambda x: pd.Series(sentence_synset(x))\n",
        "  synset_to_offset=lambda x: int(str(x.offset()).zfill(8))\n",
        "  get_value=lambda x: sentiwordnet[sentiwordnet.ID==synset_to_offset(x)]['score'].values[0]\n",
        "  score_offset_check=lambda x: get_value(x) if (synset_to_offset(x) in sentiwordnet_list) else 0\n",
        "  binary_offset_check=lambda x: 1 if (synset_to_offset(x) in sentiwordnet_list and get_value(x)>0) else  -1 if  (synset_to_offset(x) in sentiwordnet_list and get_value(x)<0) else 0\n",
        "  sentiwordnet_score=lambda sent: sent_to_synset(sent).apply(lambda z: score_offset_check(z)) \n",
        "  sentiwordnet_binary=lambda sent: sent_to_synset(sent).apply(lambda z: binary_offset_check(z))\n",
        "  #Sum Score\n",
        "  df['SentiWordNet_sum_score']=df['clean_text'].apply(lambda x: sentiwordnet_score(x).sum() if type(x)==str else np.nan)\n",
        "  #Max Score\n",
        "  df['SentiWordNet_max_score']=df['clean_text'].apply(lambda x: sentiwordnet_score(x).max() if type(x)==str else np.nan)        \n",
        "  #Min Score\n",
        "  df['SentiWordNet_min_score']=df['clean_text'].apply(lambda x: sentiwordnet_score(x).min() if type(x)==str else np.nan)  \n",
        "  #Ratio of Positive Words\n",
        "  df['SentiWordNet_pos_ratio']=df['clean_text'].apply(lambda x: sum(1 for i in sentiwordnet_binary(x) if i==1)/len(sent_to_synset(x)) if (type(x)==str and len(sent_to_synset(x))>0) else 0 if type(x)==str else np.nan)\n",
        "  #Ratio of Negatiive Words\n",
        "  df['SentiWordNet_neg_ratio']=df['clean_text'].apply(lambda x: sum(1 for i in sentiwordnet_binary(x) if i==-1)/len(sent_to_synset(x)) if (type(x)==str and len(sent_to_synset(x))>0) else 0 if type(x)==str else  np.nan)  \n",
        "  print('Done SentiWordNet Lexicon')\n",
        "  return(df)\n",
        "\n",
        "def feature_engineering(df,k_W2V,k_GloVe):\n",
        "  #n-grams\n",
        "  for grams in [1,2,3,4]:\n",
        "    nan_checker=lambda x: x if type(x)==str else ''\n",
        "      \n",
        "    #Initiate class for BOW \n",
        "    bow_vectorizer= CountVectorizer(ngram_range=(grams,grams))\n",
        "    #Initiate class for TF-IDF\n",
        "    tfidf_vectorizer = TfidfVectorizer(norm=None, ngram_range=(grams,grams))\n",
        "    \n",
        "    #Create docs\n",
        "    docs=df['clean_text'].apply(lambda x: n_grams_handled(x))\n",
        "    \n",
        "#     #Create BOW matrix\n",
        "#     bow_matrix = bow_vectorizer.fit_transform(docs.apply(lambda x: nan_checker(x)).to_list())\n",
        "    \n",
        "    #Create TF-IDF matrix\n",
        "    tfidf_matrix = tfidf_vectorizer.fit_transform(docs.apply(lambda x: nan_checker(x)).to_list())\n",
        "    \n",
        "#     #Create BOW n-grams\n",
        "#     df['BOW_'+str(grams)+'-grams']=[bow_matrix[i] for i in range(len(df))]\n",
        "    \n",
        "    #Create TF-IDF n-grams\n",
        "    df['Avg_TFIDF_'+str(grams)+'-grams']=[np.mean([x for x in tfidf_matrix[i].toarray()[0].tolist() if x!=0]) for i in range(len(df))]\n",
        "    \n",
        "    #Calculate sum of RF n-gram\n",
        "    df['Avg_rf_'+str(grams)+'-grams']=rf_ngram(df,grams)\n",
        "  print('Done n-grams')\n",
        "  \n",
        "  #Calculate PMI\n",
        "  df['PMI_score']=PMI(df)\n",
        "  \n",
        "  #k-Means Word Cluster from Google Word2Vec\n",
        "  W2V_df=W2V_sentence_embedding(concat_df)\n",
        "  df['W2V_'+str(k_W2V)+'_Means']=kmeans(W2V_df,W2V_df.columns,k_W2V,scaled=False,plot=True)\n",
        "  \n",
        "  #k-Means Word Cluster from GloVe\n",
        "  GloVe_df=GloVe_sentence_embedding(concat_df)\n",
        "  df['GloVe'+str(k_GloVe)+'_Means']=kmeans(GloVe_df,GloVe_df.columns,k_GloVe,scaled=False,plot=True)\n",
        "  return(df)"
      ],
      "execution_count": 0,
      "outputs": []
    },
    {
      "cell_type": "markdown",
      "metadata": {
        "id": "yGLrxWPQxdxS",
        "colab_type": "text"
      },
      "source": [
        "## k-Means Elbow"
      ]
    },
    {
      "cell_type": "code",
      "metadata": {
        "id": "EM_XC-6Swzhk",
        "colab_type": "code",
        "outputId": "e51607e3-4b55-46d2-ec24-7764df9b3014",
        "colab": {
          "base_uri": "https://localhost:8080/",
          "height": 301
        }
      },
      "source": [
        "W2V_df=W2V_sentence_embedding(concat_df)\n",
        "W2V_df=W2V_df[pd.isnull(W2V_df[0])==False]\n",
        "elbow_plot_kmeans(W2V_df,W2V_df.columns,kmax=100,step=1,scaled=False)"
      ],
      "execution_count": 0,
      "outputs": [
        {
          "output_type": "display_data",
          "data": {
            "image/png": "[encoded data removed]",
            "text/plain": [
              "<Figure size 432x288 with 1 Axes>"
            ]
          },
          "metadata": {
            "tags": []
          }
        }
      ]
    },
    {
      "cell_type": "code",
      "metadata": {
        "id": "F7ZA-jzOH7Tz",
        "colab_type": "code",
        "outputId": "a77a5d1a-faa4-4695-b986-926e9e5a9953",
        "colab": {
          "base_uri": "https://localhost:8080/",
          "height": 301
        }
      },
      "source": [
        "GloVe_df=GloVe_sentence_embedding(concat_df)\n",
        "GloVe_df=GloVe_df[pd.isnull(GloVe_df[0])==False]\n",
        "elbow_plot_kmeans(GloVe_df,GloVe_df.columns,kmax=100,step=1,scaled=False)"
      ],
      "execution_count": 0,
      "outputs": [
        {
          "output_type": "display_data",
          "data": {
            "image/png": "[encoded data removed]",
            "text/plain": [
              "<Figure size 432x288 with 1 Axes>"
            ]
          },
          "metadata": {
            "tags": []
          }
        }
      ]
    },
    {
      "cell_type": "markdown",
      "metadata": {
        "id": "zded2pjKIUmr",
        "colab_type": "text"
      },
      "source": [
        "## Feature Engineering"
      ]
    },
    {
      "cell_type": "code",
      "metadata": {
        "id": "opCXOn22Mheb",
        "colab_type": "code",
        "colab": {}
      },
      "source": [
        "def parallelize_dataframe(df, func, n_split):\n",
        "    df_split = np.array_split(df, n_split)\n",
        "    df_pool=func(df_split[0])\n",
        "    for i in range(n_split-1):\n",
        "      x=df_split[i+1]\n",
        "      x=func(x.copy())\n",
        "      df_pool = pd.concat([df_pool,x],ignore_index=True)\n",
        "    return df_pool"
      ],
      "execution_count": 0,
      "outputs": []
    },
    {
      "cell_type": "code",
      "metadata": {
        "id": "qZyiQ3-PIDzB",
        "colab_type": "code",
        "outputId": "3e409110-0704-422e-a590-4f0636fcd859",
        "colab": {
          "base_uri": "https://localhost:8080/",
          "height": 822
        }
      },
      "source": [
        "from google.colab import files\n",
        "import time\n",
        "start=time.time()\n",
        "draft_engineered_df = parallelize_dataframe(concat_df, feature_engineering_split,n_split=4)\n",
        "engineered_df=feature_engineering(draft_engineered_df,k_W2V=50,k_GloVe=40)\n",
        "end=time.time()\n",
        "print('')\n",
        "print('Finished in ',end-start,' seconds!')\n",
        "\n",
        "engineered_df.to_csv('df_prepared_Minus_NER.csv') "
      ],
      "execution_count": 0,
      "outputs": [
        {
          "output_type": "stream",
          "text": [
            "/usr/local/lib/python3.6/dist-packages/numpy/core/fromnumeric.py:3118: RuntimeWarning: Mean of empty slice.\n",
            "  out=out, **kwargs)\n",
            "/usr/local/lib/python3.6/dist-packages/numpy/core/_methods.py:85: RuntimeWarning: invalid value encountered in double_scalars\n",
            "  ret = ret.dtype.type(ret / rcount)\n",
            "/usr/local/lib/python3.6/dist-packages/numpy/core/fromnumeric.py:3118: RuntimeWarning: Mean of empty slice.\n",
            "  out=out, **kwargs)\n",
            "/usr/local/lib/python3.6/dist-packages/numpy/core/_methods.py:85: RuntimeWarning: invalid value encountered in double_scalars\n",
            "  ret = ret.dtype.type(ret / rcount)\n",
            "/usr/local/lib/python3.6/dist-packages/numpy/core/fromnumeric.py:3118: RuntimeWarning: Mean of empty slice.\n",
            "  out=out, **kwargs)\n",
            "/usr/local/lib/python3.6/dist-packages/numpy/core/_methods.py:85: RuntimeWarning: invalid value encountered in double_scalars\n",
            "  ret = ret.dtype.type(ret / rcount)\n",
            "/usr/local/lib/python3.6/dist-packages/numpy/core/fromnumeric.py:3118: RuntimeWarning: Mean of empty slice.\n",
            "  out=out, **kwargs)\n",
            "/usr/local/lib/python3.6/dist-packages/numpy/core/_methods.py:85: RuntimeWarning: invalid value encountered in double_scalars\n",
            "  ret = ret.dtype.type(ret / rcount)\n"
          ],
          "name": "stderr"
        },
        {
          "output_type": "stream",
          "text": [
            "Done n-grams\n"
          ],
          "name": "stdout"
        },
        {
          "output_type": "display_data",
          "data": {
            "image/png": "[encoded data removed]",
            "text/plain": [
              "<Figure size 432x288 with 2 Axes>"
            ]
          },
          "metadata": {
            "tags": []
          }
        },
        {
          "output_type": "display_data",
          "data": {
            "image/png": "[encoded data removed]",
            "text/plain": [
              "<Figure size 432x288 with 2 Axes>"
            ]
          },
          "metadata": {
            "tags": []
          }
        },
        {
          "output_type": "stream",
          "text": [
            "\n",
            "Finished in  2486.129671573639  seconds!\n"
          ],
          "name": "stdout"
        }
      ]
    },
    {
      "cell_type": "code",
      "metadata": {
        "id": "Kw2S3Cfq8qPQ",
        "colab_type": "code",
        "colab": {}
      },
      "source": [
        "files.download('df_prepared_Minus_NER.csv')"
      ],
      "execution_count": 0,
      "outputs": []
    }
  ]
}
